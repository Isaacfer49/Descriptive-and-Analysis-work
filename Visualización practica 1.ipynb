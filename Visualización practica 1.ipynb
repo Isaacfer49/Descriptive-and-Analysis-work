{
 "cells": [
  {
   "cell_type": "code",
   "execution_count": 40,
   "id": "298152df",
   "metadata": {},
   "outputs": [],
   "source": [
    "import pandas as pd\n",
    "import numpy as np\n",
    "import matplotlib.pyplot as plt"
   ]
  },
  {
   "cell_type": "code",
   "execution_count": 14,
   "id": "84b38bca",
   "metadata": {},
   "outputs": [],
   "source": [
    "datos = pd.read_csv(\"/Users/isaacfernandez/Downloads/Copia de Datos_Academicos_1 - Sheet1.csv\")"
   ]
  },
  {
   "cell_type": "code",
   "execution_count": 21,
   "id": "01982014",
   "metadata": {},
   "outputs": [],
   "source": [
    "datos = datos.drop(\"Académico\",axis=1)"
   ]
  },
  {
   "cell_type": "code",
   "execution_count": 81,
   "id": "473bf9f0",
   "metadata": {},
   "outputs": [
    {
     "data": {
      "text/html": [
       "<div>\n",
       "<style scoped>\n",
       "    .dataframe tbody tr th:only-of-type {\n",
       "        vertical-align: middle;\n",
       "    }\n",
       "\n",
       "    .dataframe tbody tr th {\n",
       "        vertical-align: top;\n",
       "    }\n",
       "\n",
       "    .dataframe thead th {\n",
       "        text-align: right;\n",
       "    }\n",
       "</style>\n",
       "<table border=\"1\" class=\"dataframe\">\n",
       "  <thead>\n",
       "    <tr style=\"text-align: right;\">\n",
       "      <th></th>\n",
       "      <th>2020</th>\n",
       "      <th>2021</th>\n",
       "      <th>2022</th>\n",
       "      <th>2020.1</th>\n",
       "      <th>2021.1</th>\n",
       "      <th>2022.1</th>\n",
       "      <th>2020.2</th>\n",
       "      <th>2021.2</th>\n",
       "      <th>2022.2</th>\n",
       "      <th>2020.3</th>\n",
       "      <th>...</th>\n",
       "      <th>2022.8</th>\n",
       "      <th>2020.9</th>\n",
       "      <th>2021.9</th>\n",
       "      <th>2022.9</th>\n",
       "      <th>2020.10</th>\n",
       "      <th>2021.10</th>\n",
       "      <th>2022.10</th>\n",
       "      <th>2020.11</th>\n",
       "      <th>2021.11</th>\n",
       "      <th>2022.11</th>\n",
       "    </tr>\n",
       "  </thead>\n",
       "  <tbody>\n",
       "    <tr>\n",
       "      <th>0</th>\n",
       "      <td>2</td>\n",
       "      <td>0</td>\n",
       "      <td>0</td>\n",
       "      <td>0</td>\n",
       "      <td>0</td>\n",
       "      <td>0</td>\n",
       "      <td>1</td>\n",
       "      <td>2</td>\n",
       "      <td>2</td>\n",
       "      <td>2</td>\n",
       "      <td>...</td>\n",
       "      <td>0</td>\n",
       "      <td>2</td>\n",
       "      <td>1</td>\n",
       "      <td>1</td>\n",
       "      <td>3</td>\n",
       "      <td>3</td>\n",
       "      <td>2</td>\n",
       "      <td>0</td>\n",
       "      <td>0</td>\n",
       "      <td>0</td>\n",
       "    </tr>\n",
       "    <tr>\n",
       "      <th>1</th>\n",
       "      <td>3</td>\n",
       "      <td>2</td>\n",
       "      <td>0</td>\n",
       "      <td>0</td>\n",
       "      <td>2</td>\n",
       "      <td>1</td>\n",
       "      <td>2</td>\n",
       "      <td>0</td>\n",
       "      <td>1</td>\n",
       "      <td>0</td>\n",
       "      <td>...</td>\n",
       "      <td>0</td>\n",
       "      <td>6</td>\n",
       "      <td>3</td>\n",
       "      <td>1</td>\n",
       "      <td>1</td>\n",
       "      <td>0</td>\n",
       "      <td>0</td>\n",
       "      <td>0</td>\n",
       "      <td>0</td>\n",
       "      <td>0</td>\n",
       "    </tr>\n",
       "    <tr>\n",
       "      <th>2</th>\n",
       "      <td>2</td>\n",
       "      <td>3</td>\n",
       "      <td>1</td>\n",
       "      <td>0</td>\n",
       "      <td>1</td>\n",
       "      <td>0</td>\n",
       "      <td>0</td>\n",
       "      <td>0</td>\n",
       "      <td>3</td>\n",
       "      <td>2</td>\n",
       "      <td>...</td>\n",
       "      <td>0</td>\n",
       "      <td>0</td>\n",
       "      <td>3</td>\n",
       "      <td>3</td>\n",
       "      <td>0</td>\n",
       "      <td>4</td>\n",
       "      <td>4</td>\n",
       "      <td>0</td>\n",
       "      <td>0</td>\n",
       "      <td>0</td>\n",
       "    </tr>\n",
       "    <tr>\n",
       "      <th>3</th>\n",
       "      <td>2</td>\n",
       "      <td>2</td>\n",
       "      <td>1</td>\n",
       "      <td>1</td>\n",
       "      <td>0</td>\n",
       "      <td>0</td>\n",
       "      <td>1</td>\n",
       "      <td>1</td>\n",
       "      <td>1</td>\n",
       "      <td>0</td>\n",
       "      <td>...</td>\n",
       "      <td>0</td>\n",
       "      <td>4</td>\n",
       "      <td>5</td>\n",
       "      <td>4</td>\n",
       "      <td>0</td>\n",
       "      <td>0</td>\n",
       "      <td>0</td>\n",
       "      <td>0</td>\n",
       "      <td>0</td>\n",
       "      <td>0</td>\n",
       "    </tr>\n",
       "    <tr>\n",
       "      <th>4</th>\n",
       "      <td>6</td>\n",
       "      <td>8</td>\n",
       "      <td>5</td>\n",
       "      <td>0</td>\n",
       "      <td>0</td>\n",
       "      <td>3</td>\n",
       "      <td>0</td>\n",
       "      <td>0</td>\n",
       "      <td>4</td>\n",
       "      <td>2</td>\n",
       "      <td>...</td>\n",
       "      <td>0</td>\n",
       "      <td>3</td>\n",
       "      <td>5</td>\n",
       "      <td>4</td>\n",
       "      <td>4</td>\n",
       "      <td>5</td>\n",
       "      <td>3</td>\n",
       "      <td>0</td>\n",
       "      <td>0</td>\n",
       "      <td>0</td>\n",
       "    </tr>\n",
       "  </tbody>\n",
       "</table>\n",
       "<p>5 rows × 36 columns</p>\n",
       "</div>"
      ],
      "text/plain": [
       "   2020  2021  2022  2020.1  2021.1  2022.1  2020.2  2021.2  2022.2  2020.3  \\\n",
       "0     2     0     0       0       0       0       1       2       2       2   \n",
       "1     3     2     0       0       2       1       2       0       1       0   \n",
       "2     2     3     1       0       1       0       0       0       3       2   \n",
       "3     2     2     1       1       0       0       1       1       1       0   \n",
       "4     6     8     5       0       0       3       0       0       4       2   \n",
       "\n",
       "   ...  2022.8  2020.9  2021.9  2022.9  2020.10  2021.10  2022.10  2020.11  \\\n",
       "0  ...       0       2       1       1        3        3        2        0   \n",
       "1  ...       0       6       3       1        1        0        0        0   \n",
       "2  ...       0       0       3       3        0        4        4        0   \n",
       "3  ...       0       4       5       4        0        0        0        0   \n",
       "4  ...       0       3       5       4        4        5        3        0   \n",
       "\n",
       "   2021.11  2022.11  \n",
       "0        0        0  \n",
       "1        0        0  \n",
       "2        0        0  \n",
       "3        0        0  \n",
       "4        0        0  \n",
       "\n",
       "[5 rows x 36 columns]"
      ]
     },
     "execution_count": 81,
     "metadata": {},
     "output_type": "execute_result"
    }
   ],
   "source": [
    "datos.head()"
   ]
  },
  {
   "cell_type": "code",
   "execution_count": 76,
   "id": "2cc41168",
   "metadata": {},
   "outputs": [],
   "source": [
    "x = '2020.'+ str(i)"
   ]
  },
  {
   "cell_type": "code",
   "execution_count": 84,
   "id": "2c772a88",
   "metadata": {},
   "outputs": [],
   "source": [
    "def anos(datos):\n",
    "    uno,dos,tres = ['2020'],['2021'],['2022']\n",
    "    for i in range(1,12):\n",
    "        uno.append('2020.'+ str(i))\n",
    "        dos.append('2021.'+ str(i))\n",
    "        tres.append('2022.'+ str(i))\n",
    "    return uno,dos,tres\n",
    "        \n",
    "    \n",
    "    "
   ]
  },
  {
   "cell_type": "code",
   "execution_count": 86,
   "id": "8f2a025f",
   "metadata": {},
   "outputs": [],
   "source": [
    "uno,dos,tres = anos(datos)"
   ]
  },
  {
   "cell_type": "code",
   "execution_count": 98,
   "id": "7aa2c820",
   "metadata": {},
   "outputs": [],
   "source": [
    "x = datos[uno].values\n",
    "y = datos[dos].values\n",
    "z = datos[tres].values"
   ]
  },
  {
   "cell_type": "code",
   "execution_count": 117,
   "id": "c15c7ed0",
   "metadata": {},
   "outputs": [
    {
     "data": {
      "text/plain": [
       "[12, 13, 9, 9, 15, 0, 0, 3, 9, 13, 5, 6, 1, 0, 3]"
      ]
     },
     "execution_count": 117,
     "metadata": {},
     "output_type": "execute_result"
    }
   ],
   "source": [
    "lst_2020"
   ]
  },
  {
   "cell_type": "code",
   "execution_count": 106,
   "id": "585f96b5",
   "metadata": {},
   "outputs": [],
   "source": [
    "lst_2020,lst_2021,lst_2022 = [],[],[]\n",
    "for i in range(len(x)):\n",
    "    lst_2020.append(sum(x[i]))\n",
    "    lst_2021.append(sum(y[i]))\n",
    "    lst_2022.append(sum(z[i]))\n",
    "val_1 = sum(lst_2020)\n",
    "val_2 = sum(lst_2021)\n",
    "val_3 = sum(lst_2022)"
   ]
  },
  {
   "cell_type": "code",
   "execution_count": 109,
   "id": "cd178ed2",
   "metadata": {},
   "outputs": [],
   "source": [
    "anos= [val_1,val_2,val_2]"
   ]
  },
  {
   "cell_type": "code",
   "execution_count": 111,
   "id": "0935efcb",
   "metadata": {},
   "outputs": [],
   "source": [
    "anos = pd.DataFrame(anos)\n",
    "anos.to_csv('aportaciones_ano.csv')"
   ]
  },
  {
   "cell_type": "code",
   "execution_count": 82,
   "id": "54eb78bb",
   "metadata": {},
   "outputs": [
    {
     "data": {
      "text/html": [
       "<div>\n",
       "<style scoped>\n",
       "    .dataframe tbody tr th:only-of-type {\n",
       "        vertical-align: middle;\n",
       "    }\n",
       "\n",
       "    .dataframe tbody tr th {\n",
       "        vertical-align: top;\n",
       "    }\n",
       "\n",
       "    .dataframe thead th {\n",
       "        text-align: right;\n",
       "    }\n",
       "</style>\n",
       "<table border=\"1\" class=\"dataframe\">\n",
       "  <thead>\n",
       "    <tr style=\"text-align: right;\">\n",
       "      <th></th>\n",
       "      <th>2020</th>\n",
       "      <th>2020.1</th>\n",
       "    </tr>\n",
       "  </thead>\n",
       "  <tbody>\n",
       "    <tr>\n",
       "      <th>0</th>\n",
       "      <td>2</td>\n",
       "      <td>0</td>\n",
       "    </tr>\n",
       "    <tr>\n",
       "      <th>1</th>\n",
       "      <td>3</td>\n",
       "      <td>0</td>\n",
       "    </tr>\n",
       "    <tr>\n",
       "      <th>2</th>\n",
       "      <td>2</td>\n",
       "      <td>0</td>\n",
       "    </tr>\n",
       "    <tr>\n",
       "      <th>3</th>\n",
       "      <td>2</td>\n",
       "      <td>1</td>\n",
       "    </tr>\n",
       "    <tr>\n",
       "      <th>4</th>\n",
       "      <td>6</td>\n",
       "      <td>0</td>\n",
       "    </tr>\n",
       "    <tr>\n",
       "      <th>5</th>\n",
       "      <td>0</td>\n",
       "      <td>0</td>\n",
       "    </tr>\n",
       "    <tr>\n",
       "      <th>6</th>\n",
       "      <td>0</td>\n",
       "      <td>0</td>\n",
       "    </tr>\n",
       "    <tr>\n",
       "      <th>7</th>\n",
       "      <td>1</td>\n",
       "      <td>0</td>\n",
       "    </tr>\n",
       "    <tr>\n",
       "      <th>8</th>\n",
       "      <td>1</td>\n",
       "      <td>0</td>\n",
       "    </tr>\n",
       "    <tr>\n",
       "      <th>9</th>\n",
       "      <td>4</td>\n",
       "      <td>0</td>\n",
       "    </tr>\n",
       "    <tr>\n",
       "      <th>10</th>\n",
       "      <td>0</td>\n",
       "      <td>0</td>\n",
       "    </tr>\n",
       "    <tr>\n",
       "      <th>11</th>\n",
       "      <td>3</td>\n",
       "      <td>0</td>\n",
       "    </tr>\n",
       "    <tr>\n",
       "      <th>12</th>\n",
       "      <td>0</td>\n",
       "      <td>0</td>\n",
       "    </tr>\n",
       "    <tr>\n",
       "      <th>13</th>\n",
       "      <td>0</td>\n",
       "      <td>0</td>\n",
       "    </tr>\n",
       "    <tr>\n",
       "      <th>14</th>\n",
       "      <td>1</td>\n",
       "      <td>0</td>\n",
       "    </tr>\n",
       "  </tbody>\n",
       "</table>\n",
       "</div>"
      ],
      "text/plain": [
       "    2020  2020.1\n",
       "0      2       0\n",
       "1      3       0\n",
       "2      2       0\n",
       "3      2       1\n",
       "4      6       0\n",
       "5      0       0\n",
       "6      0       0\n",
       "7      1       0\n",
       "8      1       0\n",
       "9      4       0\n",
       "10     0       0\n",
       "11     3       0\n",
       "12     0       0\n",
       "13     0       0\n",
       "14     1       0"
      ]
     },
     "execution_count": 82,
     "metadata": {},
     "output_type": "execute_result"
    }
   ],
   "source": [
    "datos[['2020','2020.1']]"
   ]
  },
  {
   "cell_type": "code",
   "execution_count": 24,
   "id": "0416a317",
   "metadata": {},
   "outputs": [
    {
     "data": {
      "text/plain": [
       "array([[ 2,  0,  0,  0,  0,  0,  1,  2,  2,  2,  2,  2,  0,  0,  0,  1,\n",
       "         0,  0,  0,  0,  0,  1,  2,  1,  0,  0,  0,  2,  1,  1,  3,  3,\n",
       "         2,  0,  0,  0],\n",
       "       [ 3,  2,  0,  0,  2,  1,  2,  0,  1,  0,  2,  1,  0,  0,  0,  1,\n",
       "         0,  1,  0,  1,  1,  0,  2,  0,  0,  0,  0,  6,  3,  1,  1,  0,\n",
       "         0,  0,  0,  0],\n",
       "       [ 2,  3,  1,  0,  1,  0,  0,  0,  3,  2,  2,  2,  2,  2,  2,  2,\n",
       "         2,  2,  0,  0,  1,  1,  2,  4,  0,  0,  0,  0,  3,  3,  0,  4,\n",
       "         4,  0,  0,  0],\n",
       "       [ 2,  2,  1,  1,  0,  0,  1,  1,  1,  0,  1,  2,  0,  1,  1,  0,\n",
       "         0,  0,  0,  2,  1,  1,  0,  0,  0,  0,  0,  4,  5,  4,  0,  0,\n",
       "         0,  0,  0,  0],\n",
       "       [ 6,  8,  5,  0,  0,  3,  0,  0,  4,  2,  2,  2,  0,  0,  0,  0,\n",
       "         0,  2,  0,  0,  0,  0,  2,  2,  0,  2,  0,  3,  5,  4,  4,  5,\n",
       "         3,  0,  0,  0],\n",
       "       [ 0,  0,  1,  0,  0,  0,  0,  1,  1,  0,  2,  3,  0,  3,  1,  0,\n",
       "         0,  0,  0,  0,  0,  0,  0,  0,  0,  0,  0,  0,  0,  0,  0,  0,\n",
       "         1,  0,  0,  0],\n",
       "       [ 0,  0,  0,  0,  0,  0,  0,  0,  1,  0,  4,  5,  0,  0,  0,  0,\n",
       "         0,  1,  0,  0,  0,  0,  0,  0,  0,  0,  0,  0,  0,  0,  0,  0,\n",
       "         0,  0,  0,  1],\n",
       "       [ 1,  3,  2,  0,  0,  0,  0,  0,  0,  0,  0,  0,  2,  2,  2,  0,\n",
       "         0,  0,  0,  0,  0,  0,  0,  0,  0,  3, 11,  0,  0,  0,  0,  0,\n",
       "         0,  0,  0,  0],\n",
       "       [ 1,  2,  2,  0,  0,  0,  2,  0,  0,  2,  2,  1,  0,  0,  0,  1,\n",
       "         0,  2,  1,  0,  0,  2,  0,  0,  0,  0,  0,  0,  1,  1,  0,  1,\n",
       "         2,  0,  0,  0],\n",
       "       [ 4,  1,  3,  0,  0,  0,  0,  1,  0,  2,  2,  2,  0,  1,  0,  0,\n",
       "         0,  3,  0,  0,  0,  1,  0,  1,  0,  0,  0,  3,  2,  2,  3,  5,\n",
       "         4,  0,  0,  3],\n",
       "       [ 0,  1,  1,  0,  0,  0,  1,  0,  1,  2,  1,  1,  0,  0,  0,  0,\n",
       "         0,  0,  0,  0,  0,  0,  1,  0,  0,  0,  0,  1,  2,  2,  1,  1,\n",
       "         1,  0,  0,  1],\n",
       "       [ 3,  1,  2,  0,  0,  0,  0,  0,  0,  1,  0,  0,  1,  0,  0,  1,\n",
       "         3,  0,  0,  0,  0,  0,  0,  0,  0,  0,  0,  0,  0,  0,  0,  0,\n",
       "         0,  0,  0,  0],\n",
       "       [ 0,  1,  2,  0,  0,  0,  0,  2,  1,  0,  1,  0,  0,  0,  0,  1,\n",
       "         0,  1,  0,  0,  0,  0,  0,  0,  0,  1,  0,  0,  0,  0,  0,  2,\n",
       "         2,  0,  0,  0],\n",
       "       [ 0,  1,  0,  0,  0,  0,  0,  0,  1,  0,  0,  0,  0,  0,  0,  0,\n",
       "         0,  0,  0,  0,  0,  0,  0,  0,  0,  0,  0,  0,  0,  0,  0,  0,\n",
       "         0,  0,  0,  0],\n",
       "       [ 1,  1,  1,  0,  0,  0,  0,  1,  0,  0,  0,  0,  2,  2,  1,  0,\n",
       "         0,  0,  0,  0,  0,  0,  0,  0,  0,  0,  0,  0,  0,  0,  0,  0,\n",
       "         0,  0,  0,  0]])"
      ]
     },
     "execution_count": 24,
     "metadata": {},
     "output_type": "execute_result"
    }
   ],
   "source": [
    "datos.values"
   ]
  },
  {
   "cell_type": "code",
   "execution_count": 25,
   "id": "0607a469",
   "metadata": {},
   "outputs": [],
   "source": [
    "valores = datos.values "
   ]
  },
  {
   "cell_type": "code",
   "execution_count": 30,
   "id": "ea029d7c",
   "metadata": {},
   "outputs": [
    {
     "data": {
      "text/plain": [
       "50"
      ]
     },
     "execution_count": 30,
     "metadata": {},
     "output_type": "execute_result"
    }
   ],
   "source": [
    "sum(list(valores[]))"
   ]
  },
  {
   "cell_type": "code",
   "execution_count": 36,
   "id": "3444fd25",
   "metadata": {},
   "outputs": [],
   "source": [
    "def sum1(valores):\n",
    "    prom = []\n",
    "    for i in range(len(valores)):\n",
    "        prom.append(sum(list(valores[i])))\n",
    "    norm = [i/max(prom) for i in prom]\n",
    "    return norm"
   ]
  },
  {
   "cell_type": "code",
   "execution_count": 57,
   "id": "1f559e75",
   "metadata": {},
   "outputs": [],
   "source": [
    "performance= sum1(valores)"
   ]
  },
  {
   "cell_type": "code",
   "execution_count": 58,
   "id": "4cbecc68",
   "metadata": {},
   "outputs": [],
   "source": [
    "performance =  [ i * 10 for i in performance]"
   ]
  },
  {
   "cell_type": "code",
   "execution_count": 59,
   "id": "2cf3f70f",
   "metadata": {},
   "outputs": [],
   "source": [
    "p_metric = pd.DataFrame(performance)"
   ]
  },
  {
   "cell_type": "code",
   "execution_count": 62,
   "id": "504454f4",
   "metadata": {},
   "outputs": [],
   "source": [
    "p_metric.to_csv('p_metric.csv')"
   ]
  },
  {
   "cell_type": "code",
   "execution_count": 50,
   "id": "424f51a2",
   "metadata": {},
   "outputs": [
    {
     "data": {
      "image/png": "[encoded data removed]",
      "text/plain": [
       "<Figure size 4000x4000 with 1 Axes>"
      ]
     },
     "metadata": {},
     "output_type": "display_data"
    }
   ],
   "source": [
    "fig = plt.figure(figsize = (40,40))\n",
    "fig.tight_layout()\n",
    "x = [i for i in range(len(performance))]\n",
    "# creating the bar plot\n",
    "plt.bar(x,height = performance, color ='maroon',\n",
    "        width = 0.5)\n",
    " \n",
    "plt.title(\"Performance por academico\")\n",
    "plt.show()"
   ]
  }
 ],
 "metadata": {
  "kernelspec": {
   "display_name": "Python 3 (ipykernel)",
   "language": "python",
   "name": "python3"
  },
  "language_info": {
   "codemirror_mode": {
    "name": "ipython",
    "version": 3
   },
   "file_extension": ".py",
   "mimetype": "text/x-python",
   "name": "python",
   "nbconvert_exporter": "python",
   "pygments_lexer": "ipython3",
   "version": "3.9.12"
  }
 },
 "nbformat": 4,
 "nbformat_minor": 5
}
