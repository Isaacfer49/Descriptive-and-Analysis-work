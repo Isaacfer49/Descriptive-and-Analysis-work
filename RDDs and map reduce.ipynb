{
 "cells": [
  {
   "cell_type": "markdown",
   "id": "4b87c7b8",
   "metadata": {},
   "source": [
    "## Big data.\n",
    "### Libraries used:\n"
   ]
  },
  {
   "cell_type": "code",
   "execution_count": 1,
   "id": "77ac097f",
   "metadata": {},
   "outputs": [
    {
     "name": "stdout",
     "output_type": "stream",
     "text": [
      "23/03/14 21:41:15 WARN Utils: Your hostname, Isaacs-MacBook-Pro.local resolves to a loopback address: 127.0.0.1; using 192.168.1.66 instead (on interface en0)\n",
      "23/03/14 21:41:15 WARN Utils: Set SPARK_LOCAL_IP if you need to bind to another address\n"
     ]
    },
    {
     "name": "stderr",
     "output_type": "stream",
     "text": [
      "Setting default log level to \"WARN\".\n",
      "To adjust logging level use sc.setLogLevel(newLevel). For SparkR, use setLogLevel(newLevel).\n"
     ]
    },
    {
     "name": "stdout",
     "output_type": "stream",
     "text": [
      "23/03/14 21:41:16 WARN NativeCodeLoader: Unable to load native-hadoop library for your platform... using builtin-java classes where applicable\n"
     ]
    }
   ],
   "source": [
    "import pyspark\n",
    "from pyspark.sql.functions import * \n",
    "from pyspark.sql import SparkSession\n",
    "spark = SparkSession.builder.appName('MapReduce').getOrCreate()\n",
    "import numpy as np\n",
    "import matplotlib.pyplot as plt\n",
    "import nltk\n",
    "import string\n"
   ]
  },
  {
   "cell_type": "markdown",
   "id": "f9e522b6",
   "metadata": {},
   "source": [
    "## Implementing map-reduce \n",
    "\n",
    "On this section, we'll implement map-reduce to the following texts"
   ]
  },
  {
   "cell_type": "code",
   "execution_count": 2,
   "id": "6d352120",
   "metadata": {},
   "outputs": [],
   "source": [
    "texts = [\n",
    "    'problem solving skills are not something that can be distilled down into a single step-by-step process',\n",
    "    'testing involves finding, designing, and developing test cases: actual instances of the problem that can be used to test your solution.'\n",
    "    'computer hardware usually refers to the physical components in a compu5ng system which includes input devices such as a mouse/touchpad, keyboard, or touchscreen, output devices such as monitors, storage devices such as hard disks and solid-state drives, as well as the electronic components such as graphics cards, main memory, motherboards, and chips that make up the central processing unit (CPU)'\n",
    "    'a program may contain many functions and pieces of code, but this special func5on is defined as the one that gets invoked when a program starts',\n",
    "    'good code is not just functional, it is also beau5ful, good code is organized, easy to read, and well documented, organization can be achieved by separating code into useful functions and collecting functions into modules or libraries, good organization means that at any one time, we only need to focus on a small part of a program'\n",
    "    'it would be difficult to read an essay that contained random line breaks, paragraphs were not indented, it contained different spacing or different fonts, etcetera, likewise, code should be legible, well wriLen code is consistent and makes good use of whitespace and indentation, code within the same code block should be indented at the same level, nested blocks should be further indented just like the outline of an essay or table of contents'\n",
    "]"
   ]
  },
  {
   "cell_type": "markdown",
   "id": "ee80b53d",
   "metadata": {},
   "source": [
    "Time to create an RDD and \"flat\" out text, RDD stands for _Resilient Distributed Datasets_"
   ]
  },
  {
   "cell_type": "code",
   "execution_count": 3,
   "id": "075b619b",
   "metadata": {},
   "outputs": [
    {
     "name": "stdout",
     "output_type": "stream",
     "text": [
      "problem solving skills are not something that can be distilled down into a single step-by-step process\n",
      "testing involves finding, designing, and developing test cases: actual instances of the problem that can be used to test your solution.computer hardware usually refers to the physical components in a compu5ng system which includes input devices such as a mouse/touchpad, keyboard, or touchscreen, output devices such as monitors, storage devices such as hard disks and solid-state drives, as well as the electronic components such as graphics cards, main memory, motherboards, and chips that make up the central processing unit (CPU)a program may contain many functions and pieces of code, but this special func5on is defined as the one that gets invoked when a program starts\n",
      "good code is not just functional, it is also beau5ful, good code is organized, easy to read, and well documented, organization can be achieved by separating code into useful functions and collecting functions into modules or libraries, good organization means that at any one time, we only need to focus on a small part of a programit would be difficult to read an essay that contained random line breaks, paragraphs were not indented, it contained different spacing or different fonts, etcetera, likewise, code should be legible, well wriLen code is consistent and makes good use of whitespace and indentation, code within the same code block should be indented at the same level, nested blocks should be further indented just like the outline of an essay or table of contents\n"
     ]
    }
   ],
   "source": [
    "rdd_texts = spark.sparkContext.parallelize(texts)\n",
    "\n",
    "for paragraph in rdd_texts.collect():\n",
    "    print(paragraph)"
   ]
  },
  {
   "cell_type": "code",
   "execution_count": 4,
   "id": "c2cc72d4",
   "metadata": {},
   "outputs": [
    {
     "name": "stderr",
     "output_type": "stream",
     "text": [
      "Error processing line 3 of /Users/isaacfernandez/opt/anaconda3/lib/python3.9/site-packages/googleapis_common_protos-1.56.3-py3.10-nspkg.pth:\n",
      "\n",
      "  Traceback (most recent call last):\n",
      "    File \"/Users/isaacfernandez/opt/anaconda3/lib/python3.9/site.py\", line 169, in addpackage\n",
      "      exec(line)\n",
      "    File \"<string>\", line 1, in <module>\n",
      "    File \"<frozen importlib._bootstrap>\", line 562, in module_from_spec\n",
      "  AttributeError: 'NoneType' object has no attribute 'loader'\n",
      "\n",
      "Remainder of file ignored\n",
      "[Stage 1:====================================>                      (5 + 3) / 8]\r"
     ]
    },
    {
     "name": "stdout",
     "output_type": "stream",
     "text": [
      "Palabra    Frecuencia\n",
      "and        8         \n",
      "the        8         \n",
      "as         7         \n",
      "be         7         \n",
      "code       7         \n",
      "of         6         \n",
      "that       6         \n",
      "a          6         \n",
      "to         5         \n",
      "is         5         \n",
      "good       4         \n",
      "such       4         \n",
      "or         4         \n",
      "devices    3         \n",
      "functions  3         \n",
      "well       3         \n",
      "should     3         \n",
      "into       3         \n",
      "not        3         \n",
      "can        3         \n",
      "components 2         \n",
      "an         2         \n",
      "indented   2         \n",
      "just       2         \n",
      "at         2         \n",
      "it         2         \n",
      "organization 2         \n",
      "essay      2         \n",
      "contained  2         \n",
      "different  2         \n",
      "program    2         \n",
      "test       2         \n",
      "problem    2         \n",
      "one        2         \n",
      "same       2         \n",
      "are        1         \n",
      "something  1         \n",
      "process    1         \n",
      "involves   1         \n",
      "developing 1         \n",
      "cases:     1         \n",
      "hardware   1         \n",
      "refers     1         \n",
      "input      1         \n",
      "(CPU)a     1         \n",
      "code,      1         \n",
      "but        1         \n",
      "when       1         \n",
      "starts     1         \n",
      "documented, 1         \n",
      "would      1         \n",
      "indented,  1         \n",
      "whitespace 1         \n",
      "blocks     1         \n",
      "like       1         \n",
      "distilled  1         \n",
      "testing    1         \n",
      "physical   1         \n",
      "which      1         \n",
      "keyboard,  1         \n",
      "touchscreen, 1         \n",
      "graphics   1         \n",
      "main       1         \n",
      "processing 1         \n",
      "many       1         \n",
      "beau5ful,  1         \n",
      "by         1         \n",
      "modules    1         \n",
      "libraries, 1         \n",
      "time,      1         \n",
      "need       1         \n",
      "programit  1         \n",
      "random     1         \n",
      "paragraphs 1         \n",
      "etcetera,  1         \n",
      "likewise,  1         \n",
      "makes      1         \n",
      "outline    1         \n",
      "finding,   1         \n",
      "compu5ng   1         \n",
      "output     1         \n",
      "chips      1         \n",
      "this       1         \n",
      "defined    1         \n",
      "functional, 1         \n",
      "organized, 1         \n",
      "read,      1         \n",
      "useful     1         \n",
      "means      1         \n",
      "we         1         \n",
      "line       1         \n",
      "use        1         \n",
      "indentation, 1         \n",
      "level,     1         \n",
      "nested     1         \n",
      "your       1         \n",
      "includes   1         \n",
      "drives,    1         \n",
      "memory,    1         \n",
      "motherboards, 1         \n",
      "also       1         \n",
      "achieved   1         \n",
      "any        1         \n",
      "within     1         \n",
      "solving    1         \n",
      "step-by-step 1         \n",
      "actual     1         \n",
      "used       1         \n",
      "in         1         \n",
      "central    1         \n",
      "may        1         \n",
      "func5on    1         \n",
      "invoked    1         \n",
      "separating 1         \n",
      "only       1         \n",
      "fonts,     1         \n",
      "wriLen     1         \n",
      "block      1         \n",
      "contents   1         \n",
      "skills     1         \n",
      "designing, 1         \n",
      "usually    1         \n",
      "monitors,  1         \n",
      "hard       1         \n",
      "up         1         \n",
      "pieces     1         \n",
      "special    1         \n",
      "gets       1         \n",
      "collecting 1         \n",
      "focus      1         \n",
      "part       1         \n",
      "legible,   1         \n",
      "table      1         \n",
      "down       1         \n",
      "single     1         \n",
      "instances  1         \n",
      "solution.computer 1         \n",
      "mouse/touchpad, 1         \n",
      "storage    1         \n",
      "disks      1         \n",
      "solid-state 1         \n",
      "make       1         \n",
      "read       1         \n",
      "spacing    1         \n",
      "consistent 1         \n",
      "further    1         \n",
      "system     1         \n",
      "electronic 1         \n",
      "cards,     1         \n",
      "unit       1         \n",
      "contain    1         \n",
      "easy       1         \n",
      "on         1         \n",
      "small      1         \n",
      "difficult  1         \n",
      "breaks,    1         \n",
      "were       1         \n"
     ]
    },
    {
     "name": "stderr",
     "output_type": "stream",
     "text": [
      "\r",
      "                                                                                \r"
     ]
    }
   ],
   "source": [
    "rdd_words = rdd_texts.flatMap(lambda paragraph: paragraph.split(' ') )\n",
    "histogram = rdd_words.map(lambda word: (word, 1)) \\\n",
    "                                  .reduceByKey(lambda a, b: a + b) \\\n",
    "                                  .sortBy(lambda x: x[1], ascending = False) \\\n",
    "                                  .collect()\n",
    "print (\"{:<10} {:<10}\".format('Palabra', 'Frecuencia'))\n",
    "\n",
    "for word, frequency in histogram:\n",
    "  print (\"{:<10} {:<10}\".format(word, frequency))"
   ]
  },
  {
   "cell_type": "code",
   "execution_count": 5,
   "id": "21a2a854",
   "metadata": {},
   "outputs": [],
   "source": [
    "rdd_map = rdd_words.map(lambda x:(x,1))\n",
    "rdd_histogram = rdd_map.reduceByKey(lambda a, b: a + b)"
   ]
  },
  {
   "cell_type": "code",
   "execution_count": 6,
   "id": "af3f362f",
   "metadata": {},
   "outputs": [
    {
     "data": {
      "text/plain": [
       "[('problem', 1), ('solving', 1), ('skills', 1), ('are', 1), ('not', 1)]"
      ]
     },
     "execution_count": 6,
     "metadata": {},
     "output_type": "execute_result"
    }
   ],
   "source": [
    "rdd_map.take(5)"
   ]
  },
  {
   "cell_type": "code",
   "execution_count": 7,
   "id": "a24a7f7e",
   "metadata": {},
   "outputs": [
    {
     "data": {
      "text/plain": [
       "[('are', 1),\n",
       " ('something', 1),\n",
       " ('process', 1),\n",
       " ('involves', 1),\n",
       " ('developing', 1)]"
      ]
     },
     "execution_count": 7,
     "metadata": {},
     "output_type": "execute_result"
    }
   ],
   "source": [
    "rdd_histogram.take(5)"
   ]
  },
  {
   "cell_type": "code",
   "execution_count": 8,
   "id": "a1023140",
   "metadata": {},
   "outputs": [
    {
     "data": {
      "image/png": "[encoded data removed]",
      "text/plain": [
       "<Figure size 640x480 with 1 Axes>"
      ]
     },
     "metadata": {},
     "output_type": "display_data"
    }
   ],
   "source": [
    "histogram_graph = rdd_histogram.collect()\n",
    "\n",
    "words = [ x[0] for x in histogram_graph ]\n",
    "frecuencies = [ x[1] for x in histogram_graph ]\n",
    "plt.bar(words, frecuencies)\n",
    "plt.xlabel('Word')\n",
    "plt.ylabel('Frecuency')\n",
    "plt.show()"
   ]
  },
  {
   "cell_type": "markdown",
   "id": "f56ac59b",
   "metadata": {},
   "source": [
    "Now, let us see a better visualization, considering the top 5 most used words."
   ]
  },
  {
   "cell_type": "code",
   "execution_count": 9,
   "id": "5a663ecd",
   "metadata": {},
   "outputs": [],
   "source": [
    "top5_all_texts = []\n",
    "for i in range(5):\n",
    "    top5_all_texts.append((histogram[i]))"
   ]
  },
  {
   "cell_type": "code",
   "execution_count": 10,
   "id": "05c9e9fa",
   "metadata": {},
   "outputs": [
    {
     "data": {
      "text/plain": [
       "[('and', 8), ('the', 8), ('as', 7), ('be', 7), ('code', 7)]"
      ]
     },
     "execution_count": 10,
     "metadata": {},
     "output_type": "execute_result"
    }
   ],
   "source": [
    "top5_all_texts"
   ]
  },
  {
   "cell_type": "code",
   "execution_count": 11,
   "id": "2e2cbcc2",
   "metadata": {},
   "outputs": [
    {
     "data": {
      "image/png": "[encoded data removed]",
      "text/plain": [
       "<Figure size 640x480 with 1 Axes>"
      ]
     },
     "metadata": {},
     "output_type": "display_data"
    }
   ],
   "source": [
    "words = [ x[0] for x in top5_all_texts ]\n",
    "frecuencies = [ x[1] for x in top5_all_texts ]\n",
    "plt.bar(words, frecuencies,color=[ 'lightblue'])\n",
    "plt.xlabel('Word')\n",
    "plt.ylabel('Frecuency')\n",
    "plt.show()"
   ]
  },
  {
   "cell_type": "markdown",
   "id": "00529e75",
   "metadata": {},
   "source": [
    "To compare our results, we will now consider the top 10,15 and 20 most used words. And verify if we can draw some conclusions from it."
   ]
  },
  {
   "cell_type": "code",
   "execution_count": 12,
   "id": "c16bf6f0",
   "metadata": {},
   "outputs": [
    {
     "data": {
      "image/png": "[encoded data removed]",
      "text/plain": [
       "<Figure size 640x480 with 1 Axes>"
      ]
     },
     "metadata": {},
     "output_type": "display_data"
    }
   ],
   "source": [
    "top10_all_texts = []\n",
    "for i in range(10):\n",
    "    top10_all_texts.append((histogram[i]))\n",
    "words = [ x[0] for x in top10_all_texts ]\n",
    "frecuencies = [ x[1] for x in top10_all_texts ]\n",
    "plt.bar(words, frecuencies)\n",
    "plt.xlabel('Word')\n",
    "plt.ylabel('Frecuency')\n",
    "plt.show()"
   ]
  },
  {
   "cell_type": "code",
   "execution_count": 13,
   "id": "5b71cd9a",
   "metadata": {},
   "outputs": [
    {
     "data": {
      "image/png": "[encoded data removed]",
      "text/plain": [
       "<Figure size 3000x1500 with 1 Axes>"
      ]
     },
     "metadata": {},
     "output_type": "display_data"
    }
   ],
   "source": [
    "top15_all_texts = []\n",
    "for i in range(15):\n",
    "    top15_all_texts.append((histogram[i]))\n",
    "words = [ x[0] for x in top15_all_texts ]\n",
    "frecuencies = [ x[1] for x in top15_all_texts ]\n",
    "plt.figure(figsize=(30, 15))\n",
    "plt.bar(words, frecuencies, color = ['lightblue'])\n",
    "plt.xlabel('Word')\n",
    "plt.ylabel('Frecuency')\n",
    "plt.show()\n"
   ]
  },
  {
   "cell_type": "code",
   "execution_count": 14,
   "id": "446e8757",
   "metadata": {},
   "outputs": [
    {
     "data": {
      "image/png": "[encoded data removed]",
      "text/plain": [
       "<Figure size 3000x1500 with 1 Axes>"
      ]
     },
     "metadata": {},
     "output_type": "display_data"
    }
   ],
   "source": [
    "top20_all_texts = []\n",
    "for i in range(20):\n",
    "    top20_all_texts.append((histogram[i]))\n",
    "words = [ x[0] for x in top20_all_texts ]\n",
    "frecuencies = [ x[1] for x in top20_all_texts ]\n",
    "plt.figure(figsize=(30, 15))\n",
    "plt.bar(words, frecuencies)\n",
    "plt.xlabel('Word')\n",
    "plt.ylabel('Frecuency')\n",
    "plt.show()\n"
   ]
  },
  {
   "cell_type": "markdown",
   "id": "145d1bfd",
   "metadata": {},
   "source": [
    "## Sentiment Analysis and the natural language toolkit"
   ]
  },
  {
   "cell_type": "code",
   "execution_count": 15,
   "id": "ca0b5d88",
   "metadata": {},
   "outputs": [
    {
     "name": "stdout",
     "output_type": "stream",
     "text": [
      "Error processing line 3 of /Users/isaacfernandez/opt/anaconda3/lib/python3.9/site-packages/googleapis_common_protos-1.56.3-py3.10-nspkg.pth:\n",
      "\n",
      "  Traceback (most recent call last):\n",
      "    File \"/Users/isaacfernandez/opt/anaconda3/lib/python3.9/site.py\", line 169, in addpackage\n",
      "      exec(line)\n",
      "    File \"<string>\", line 1, in <module>\n",
      "    File \"<frozen importlib._bootstrap>\", line 562, in module_from_spec\n",
      "  AttributeError: 'NoneType' object has no attribute 'loader'\n",
      "\n",
      "Remainder of file ignored\n",
      "Requirement already satisfied: SentimentAnalysis in /Users/isaacfernandez/opt/anaconda3/lib/python3.9/site-packages (0.8)\n",
      "Requirement already satisfied: nltk in /Users/isaacfernandez/opt/anaconda3/lib/python3.9/site-packages (from SentimentAnalysis) (3.7)\n",
      "Requirement already satisfied: urllib3 in /Users/isaacfernandez/opt/anaconda3/lib/python3.9/site-packages (from SentimentAnalysis) (1.26.11)\n",
      "Requirement already satisfied: requests in /Users/isaacfernandez/opt/anaconda3/lib/python3.9/site-packages (from SentimentAnalysis) (2.28.1)\n",
      "Requirement already satisfied: vaderSentiment in /Users/isaacfernandez/opt/anaconda3/lib/python3.9/site-packages (from SentimentAnalysis) (3.3.2)\n",
      "Requirement already satisfied: joblib in /Users/isaacfernandez/opt/anaconda3/lib/python3.9/site-packages (from nltk->SentimentAnalysis) (1.1.0)\n",
      "Requirement already satisfied: regex>=2021.8.3 in /Users/isaacfernandez/opt/anaconda3/lib/python3.9/site-packages (from nltk->SentimentAnalysis) (2022.7.9)\n",
      "Requirement already satisfied: tqdm in /Users/isaacfernandez/opt/anaconda3/lib/python3.9/site-packages (from nltk->SentimentAnalysis) (4.64.0)\n",
      "Requirement already satisfied: click in /Users/isaacfernandez/opt/anaconda3/lib/python3.9/site-packages (from nltk->SentimentAnalysis) (8.0.4)\n",
      "Requirement already satisfied: certifi>=2017.4.17 in /Users/isaacfernandez/opt/anaconda3/lib/python3.9/site-packages (from requests->SentimentAnalysis) (2022.12.7)\n",
      "Requirement already satisfied: idna<4,>=2.5 in /Users/isaacfernandez/opt/anaconda3/lib/python3.9/site-packages (from requests->SentimentAnalysis) (3.3)\n",
      "Requirement already satisfied: charset-normalizer<3,>=2 in /Users/isaacfernandez/opt/anaconda3/lib/python3.9/site-packages (from requests->SentimentAnalysis) (2.0.4)\n",
      "Error processing line 3 of /Users/isaacfernandez/opt/anaconda3/lib/python3.9/site-packages/googleapis_common_protos-1.56.3-py3.10-nspkg.pth:\n",
      "\n",
      "  Traceback (most recent call last):\n",
      "    File \"/Users/isaacfernandez/opt/anaconda3/lib/python3.9/site.py\", line 169, in addpackage\n",
      "      exec(line)\n",
      "    File \"<string>\", line 1, in <module>\n",
      "    File \"<frozen importlib._bootstrap>\", line 562, in module_from_spec\n",
      "  AttributeError: 'NoneType' object has no attribute 'loader'\n",
      "\n",
      "Remainder of file ignored\n",
      "Requirement already satisfied: nltk in /Users/isaacfernandez/opt/anaconda3/lib/python3.9/site-packages (3.7)\n",
      "Requirement already satisfied: click in /Users/isaacfernandez/opt/anaconda3/lib/python3.9/site-packages (from nltk) (8.0.4)\n",
      "Requirement already satisfied: tqdm in /Users/isaacfernandez/opt/anaconda3/lib/python3.9/site-packages (from nltk) (4.64.0)\n",
      "Requirement already satisfied: joblib in /Users/isaacfernandez/opt/anaconda3/lib/python3.9/site-packages (from nltk) (1.1.0)\n",
      "Requirement already satisfied: regex>=2021.8.3 in /Users/isaacfernandez/opt/anaconda3/lib/python3.9/site-packages (from nltk) (2022.7.9)\n",
      "Error processing line 3 of /Users/isaacfernandez/opt/anaconda3/lib/python3.9/site-packages/googleapis_common_protos-1.56.3-py3.10-nspkg.pth:\n",
      "\n",
      "  Traceback (most recent call last):\n",
      "    File \"/Users/isaacfernandez/opt/anaconda3/lib/python3.9/site.py\", line 169, in addpackage\n",
      "      exec(line)\n",
      "    File \"<string>\", line 1, in <module>\n",
      "    File \"<frozen importlib._bootstrap>\", line 562, in module_from_spec\n",
      "  AttributeError: 'NoneType' object has no attribute 'loader'\n",
      "\n",
      "Remainder of file ignored\n",
      "Requirement already satisfied: pip in /Users/isaacfernandez/opt/anaconda3/lib/python3.9/site-packages (23.0.1)\n",
      "Error processing line 3 of /Users/isaacfernandez/opt/anaconda3/lib/python3.9/site-packages/googleapis_common_protos-1.56.3-py3.10-nspkg.pth:\n",
      "\n",
      "  Traceback (most recent call last):\n",
      "    File \"/Users/isaacfernandez/opt/anaconda3/lib/python3.9/site.py\", line 169, in addpackage\n",
      "      exec(line)\n",
      "    File \"<string>\", line 1, in <module>\n",
      "    File \"<frozen importlib._bootstrap>\", line 562, in module_from_spec\n",
      "  AttributeError: 'NoneType' object has no attribute 'loader'\n",
      "\n",
      "Remainder of file ignored\n",
      "/Users/isaacfernandez/opt/anaconda3/lib/python3.9/runpy.py:127: RuntimeWarning: 'nltk.downloader' found in sys.modules after import of package 'nltk', but prior to execution of 'nltk.downloader'; this may result in unpredictable behaviour\n",
      "  warn(RuntimeWarning(msg))\n",
      "[nltk_data] Downloading collection 'all'\n",
      "[nltk_data]    | \n",
      "[nltk_data]    | Downloading package abc to\n",
      "[nltk_data]    |     /Users/isaacfernandez/nltk_data...\n",
      "[nltk_data]    |   Package abc is already up-to-date!\n",
      "[nltk_data]    | Downloading package alpino to\n",
      "[nltk_data]    |     /Users/isaacfernandez/nltk_data...\n",
      "[nltk_data]    |   Package alpino is already up-to-date!\n",
      "[nltk_data]    | Downloading package averaged_perceptron_tagger to\n",
      "[nltk_data]    |     /Users/isaacfernandez/nltk_data...\n",
      "[nltk_data]    |   Package averaged_perceptron_tagger is already up-\n",
      "[nltk_data]    |       to-date!\n",
      "[nltk_data]    | Downloading package averaged_perceptron_tagger_ru to\n",
      "[nltk_data]    |     /Users/isaacfernandez/nltk_data...\n",
      "[nltk_data]    |   Package averaged_perceptron_tagger_ru is already\n",
      "[nltk_data]    |       up-to-date!\n",
      "[nltk_data]    | Downloading package basque_grammars to\n",
      "[nltk_data]    |     /Users/isaacfernandez/nltk_data...\n",
      "[nltk_data]    |   Package basque_grammars is already up-to-date!\n",
      "[nltk_data]    | Downloading package bcp47 to\n",
      "[nltk_data]    |     /Users/isaacfernandez/nltk_data...\n",
      "[nltk_data]    |   Package bcp47 is already up-to-date!\n",
      "[nltk_data]    | Downloading package biocreative_ppi to\n",
      "[nltk_data]    |     /Users/isaacfernandez/nltk_data...\n",
      "[nltk_data]    |   Package biocreative_ppi is already up-to-date!\n",
      "[nltk_data]    | Downloading package bllip_wsj_no_aux to\n",
      "[nltk_data]    |     /Users/isaacfernandez/nltk_data...\n",
      "[nltk_data]    |   Package bllip_wsj_no_aux is already up-to-date!\n",
      "[nltk_data]    | Downloading package book_grammars to\n",
      "[nltk_data]    |     /Users/isaacfernandez/nltk_data...\n",
      "[nltk_data]    |   Package book_grammars is already up-to-date!\n",
      "[nltk_data]    | Downloading package brown to\n",
      "[nltk_data]    |     /Users/isaacfernandez/nltk_data...\n",
      "[nltk_data]    |   Package brown is already up-to-date!\n",
      "[nltk_data]    | Downloading package brown_tei to\n",
      "[nltk_data]    |     /Users/isaacfernandez/nltk_data...\n",
      "[nltk_data]    |   Package brown_tei is already up-to-date!\n",
      "[nltk_data]    | Downloading package cess_cat to\n",
      "[nltk_data]    |     /Users/isaacfernandez/nltk_data...\n",
      "[nltk_data]    |   Package cess_cat is already up-to-date!\n",
      "[nltk_data]    | Downloading package cess_esp to\n",
      "[nltk_data]    |     /Users/isaacfernandez/nltk_data...\n",
      "[nltk_data]    |   Package cess_esp is already up-to-date!\n",
      "[nltk_data]    | Downloading package chat80 to\n",
      "[nltk_data]    |     /Users/isaacfernandez/nltk_data...\n",
      "[nltk_data]    |   Package chat80 is already up-to-date!\n",
      "[nltk_data]    | Downloading package city_database to\n",
      "[nltk_data]    |     /Users/isaacfernandez/nltk_data...\n",
      "[nltk_data]    |   Package city_database is already up-to-date!\n",
      "[nltk_data]    | Downloading package cmudict to\n",
      "[nltk_data]    |     /Users/isaacfernandez/nltk_data...\n",
      "[nltk_data]    |   Package cmudict is already up-to-date!\n",
      "[nltk_data]    | Downloading package comparative_sentences to\n",
      "[nltk_data]    |     /Users/isaacfernandez/nltk_data...\n",
      "[nltk_data]    |   Package comparative_sentences is already up-to-\n",
      "[nltk_data]    |       date!\n",
      "[nltk_data]    | Downloading package comtrans to\n",
      "[nltk_data]    |     /Users/isaacfernandez/nltk_data...\n",
      "[nltk_data]    |   Package comtrans is already up-to-date!\n",
      "[nltk_data]    | Downloading package conll2000 to\n",
      "[nltk_data]    |     /Users/isaacfernandez/nltk_data...\n",
      "[nltk_data]    |   Package conll2000 is already up-to-date!\n",
      "[nltk_data]    | Downloading package conll2002 to\n",
      "[nltk_data]    |     /Users/isaacfernandez/nltk_data...\n",
      "[nltk_data]    |   Package conll2002 is already up-to-date!\n",
      "[nltk_data]    | Downloading package conll2007 to\n",
      "[nltk_data]    |     /Users/isaacfernandez/nltk_data...\n",
      "[nltk_data]    |   Package conll2007 is already up-to-date!\n",
      "[nltk_data]    | Downloading package crubadan to\n",
      "[nltk_data]    |     /Users/isaacfernandez/nltk_data...\n",
      "[nltk_data]    |   Package crubadan is already up-to-date!\n",
      "[nltk_data]    | Downloading package dependency_treebank to\n",
      "[nltk_data]    |     /Users/isaacfernandez/nltk_data...\n",
      "[nltk_data]    |   Package dependency_treebank is already up-to-date!\n",
      "[nltk_data]    | Downloading package dolch to\n",
      "[nltk_data]    |     /Users/isaacfernandez/nltk_data...\n",
      "[nltk_data]    |   Package dolch is already up-to-date!\n",
      "[nltk_data]    | Downloading package europarl_raw to\n",
      "[nltk_data]    |     /Users/isaacfernandez/nltk_data...\n"
     ]
    },
    {
     "name": "stdout",
     "output_type": "stream",
     "text": [
      "[nltk_data]    |   Package europarl_raw is already up-to-date!\n",
      "[nltk_data]    | Downloading package extended_omw to\n",
      "[nltk_data]    |     /Users/isaacfernandez/nltk_data...\n",
      "[nltk_data]    |   Package extended_omw is already up-to-date!\n",
      "[nltk_data]    | Downloading package floresta to\n",
      "[nltk_data]    |     /Users/isaacfernandez/nltk_data...\n",
      "[nltk_data]    |   Package floresta is already up-to-date!\n",
      "[nltk_data]    | Downloading package framenet_v15 to\n",
      "[nltk_data]    |     /Users/isaacfernandez/nltk_data...\n",
      "[nltk_data]    |   Package framenet_v15 is already up-to-date!\n",
      "[nltk_data]    | Downloading package framenet_v17 to\n",
      "[nltk_data]    |     /Users/isaacfernandez/nltk_data...\n",
      "[nltk_data]    |   Package framenet_v17 is already up-to-date!\n",
      "[nltk_data]    | Downloading package gazetteers to\n",
      "[nltk_data]    |     /Users/isaacfernandez/nltk_data...\n",
      "[nltk_data]    |   Package gazetteers is already up-to-date!\n",
      "[nltk_data]    | Downloading package genesis to\n",
      "[nltk_data]    |     /Users/isaacfernandez/nltk_data...\n",
      "[nltk_data]    |   Package genesis is already up-to-date!\n",
      "[nltk_data]    | Downloading package gutenberg to\n",
      "[nltk_data]    |     /Users/isaacfernandez/nltk_data...\n",
      "[nltk_data]    |   Package gutenberg is already up-to-date!\n",
      "[nltk_data]    | Downloading package ieer to\n",
      "[nltk_data]    |     /Users/isaacfernandez/nltk_data...\n",
      "[nltk_data]    |   Package ieer is already up-to-date!\n",
      "[nltk_data]    | Downloading package inaugural to\n",
      "[nltk_data]    |     /Users/isaacfernandez/nltk_data...\n",
      "[nltk_data]    |   Package inaugural is already up-to-date!\n",
      "[nltk_data]    | Downloading package indian to\n",
      "[nltk_data]    |     /Users/isaacfernandez/nltk_data...\n",
      "[nltk_data]    |   Package indian is already up-to-date!\n",
      "[nltk_data]    | Downloading package jeita to\n",
      "[nltk_data]    |     /Users/isaacfernandez/nltk_data...\n",
      "[nltk_data]    |   Package jeita is already up-to-date!\n",
      "[nltk_data]    | Downloading package kimmo to\n",
      "[nltk_data]    |     /Users/isaacfernandez/nltk_data...\n",
      "[nltk_data]    |   Package kimmo is already up-to-date!\n",
      "[nltk_data]    | Downloading package knbc to\n",
      "[nltk_data]    |     /Users/isaacfernandez/nltk_data...\n",
      "[nltk_data]    |   Package knbc is already up-to-date!\n",
      "[nltk_data]    | Downloading package large_grammars to\n",
      "[nltk_data]    |     /Users/isaacfernandez/nltk_data...\n",
      "[nltk_data]    |   Package large_grammars is already up-to-date!\n",
      "[nltk_data]    | Downloading package lin_thesaurus to\n",
      "[nltk_data]    |     /Users/isaacfernandez/nltk_data...\n",
      "[nltk_data]    |   Package lin_thesaurus is already up-to-date!\n",
      "[nltk_data]    | Downloading package mac_morpho to\n",
      "[nltk_data]    |     /Users/isaacfernandez/nltk_data...\n",
      "[nltk_data]    |   Package mac_morpho is already up-to-date!\n",
      "[nltk_data]    | Downloading package machado to\n",
      "[nltk_data]    |     /Users/isaacfernandez/nltk_data...\n",
      "[nltk_data]    |   Package machado is already up-to-date!\n",
      "[nltk_data]    | Downloading package masc_tagged to\n",
      "[nltk_data]    |     /Users/isaacfernandez/nltk_data...\n",
      "[nltk_data]    |   Package masc_tagged is already up-to-date!\n",
      "[nltk_data]    | Downloading package maxent_ne_chunker to\n",
      "[nltk_data]    |     /Users/isaacfernandez/nltk_data...\n",
      "[nltk_data]    |   Package maxent_ne_chunker is already up-to-date!\n",
      "[nltk_data]    | Downloading package maxent_treebank_pos_tagger to\n",
      "[nltk_data]    |     /Users/isaacfernandez/nltk_data...\n",
      "[nltk_data]    |   Package maxent_treebank_pos_tagger is already up-\n",
      "[nltk_data]    |       to-date!\n",
      "[nltk_data]    | Downloading package moses_sample to\n",
      "[nltk_data]    |     /Users/isaacfernandez/nltk_data...\n",
      "[nltk_data]    |   Package moses_sample is already up-to-date!\n",
      "[nltk_data]    | Downloading package movie_reviews to\n",
      "[nltk_data]    |     /Users/isaacfernandez/nltk_data...\n",
      "[nltk_data]    |   Package movie_reviews is already up-to-date!\n",
      "[nltk_data]    | Downloading package mte_teip5 to\n",
      "[nltk_data]    |     /Users/isaacfernandez/nltk_data...\n",
      "[nltk_data]    |   Package mte_teip5 is already up-to-date!\n",
      "[nltk_data]    | Downloading package mwa_ppdb to\n",
      "[nltk_data]    |     /Users/isaacfernandez/nltk_data...\n",
      "[nltk_data]    |   Package mwa_ppdb is already up-to-date!\n",
      "[nltk_data]    | Downloading package names to\n",
      "[nltk_data]    |     /Users/isaacfernandez/nltk_data...\n",
      "[nltk_data]    |   Package names is already up-to-date!\n",
      "[nltk_data]    | Downloading package nombank.1.0 to\n",
      "[nltk_data]    |     /Users/isaacfernandez/nltk_data...\n",
      "[nltk_data]    |   Package nombank.1.0 is already up-to-date!\n",
      "[nltk_data]    | Downloading package nonbreaking_prefixes to\n",
      "[nltk_data]    |     /Users/isaacfernandez/nltk_data...\n",
      "[nltk_data]    |   Package nonbreaking_prefixes is already up-to-date!\n",
      "[nltk_data]    | Downloading package nps_chat to\n",
      "[nltk_data]    |     /Users/isaacfernandez/nltk_data...\n",
      "[nltk_data]    |   Package nps_chat is already up-to-date!\n",
      "[nltk_data]    | Downloading package omw to\n",
      "[nltk_data]    |     /Users/isaacfernandez/nltk_data...\n",
      "[nltk_data]    |   Package omw is already up-to-date!\n",
      "[nltk_data]    | Downloading package omw-1.4 to\n",
      "[nltk_data]    |     /Users/isaacfernandez/nltk_data...\n",
      "[nltk_data]    |   Package omw-1.4 is already up-to-date!\n",
      "[nltk_data]    | Downloading package opinion_lexicon to\n",
      "[nltk_data]    |     /Users/isaacfernandez/nltk_data...\n",
      "[nltk_data]    |   Package opinion_lexicon is already up-to-date!\n",
      "[nltk_data]    | Downloading package panlex_swadesh to\n",
      "[nltk_data]    |     /Users/isaacfernandez/nltk_data...\n",
      "[nltk_data]    |   Package panlex_swadesh is already up-to-date!\n",
      "[nltk_data]    | Downloading package paradigms to\n",
      "[nltk_data]    |     /Users/isaacfernandez/nltk_data...\n",
      "[nltk_data]    |   Package paradigms is already up-to-date!\n",
      "[nltk_data]    | Downloading package pe08 to\n",
      "[nltk_data]    |     /Users/isaacfernandez/nltk_data...\n",
      "[nltk_data]    |   Package pe08 is already up-to-date!\n",
      "[nltk_data]    | Downloading package perluniprops to\n",
      "[nltk_data]    |     /Users/isaacfernandez/nltk_data...\n",
      "[nltk_data]    |   Package perluniprops is already up-to-date!\n",
      "[nltk_data]    | Downloading package pil to\n",
      "[nltk_data]    |     /Users/isaacfernandez/nltk_data...\n",
      "[nltk_data]    |   Package pil is already up-to-date!\n",
      "[nltk_data]    | Downloading package pl196x to\n",
      "[nltk_data]    |     /Users/isaacfernandez/nltk_data...\n",
      "[nltk_data]    |   Package pl196x is already up-to-date!\n",
      "[nltk_data]    | Downloading package porter_test to\n",
      "[nltk_data]    |     /Users/isaacfernandez/nltk_data...\n",
      "[nltk_data]    |   Package porter_test is already up-to-date!\n",
      "[nltk_data]    | Downloading package ppattach to\n",
      "[nltk_data]    |     /Users/isaacfernandez/nltk_data...\n",
      "[nltk_data]    |   Package ppattach is already up-to-date!\n",
      "[nltk_data]    | Downloading package problem_reports to\n",
      "[nltk_data]    |     /Users/isaacfernandez/nltk_data...\n",
      "[nltk_data]    |   Package problem_reports is already up-to-date!\n",
      "[nltk_data]    | Downloading package product_reviews_1 to\n",
      "[nltk_data]    |     /Users/isaacfernandez/nltk_data...\n",
      "[nltk_data]    |   Package product_reviews_1 is already up-to-date!\n",
      "[nltk_data]    | Downloading package product_reviews_2 to\n",
      "[nltk_data]    |     /Users/isaacfernandez/nltk_data...\n",
      "[nltk_data]    |   Package product_reviews_2 is already up-to-date!\n",
      "[nltk_data]    | Downloading package propbank to\n",
      "[nltk_data]    |     /Users/isaacfernandez/nltk_data...\n",
      "[nltk_data]    |   Package propbank is already up-to-date!\n",
      "[nltk_data]    | Downloading package pros_cons to\n",
      "[nltk_data]    |     /Users/isaacfernandez/nltk_data...\n",
      "[nltk_data]    |   Package pros_cons is already up-to-date!\n",
      "[nltk_data]    | Downloading package ptb to\n",
      "[nltk_data]    |     /Users/isaacfernandez/nltk_data...\n",
      "[nltk_data]    |   Package ptb is already up-to-date!\n",
      "[nltk_data]    | Downloading package punkt to\n",
      "[nltk_data]    |     /Users/isaacfernandez/nltk_data...\n",
      "[nltk_data]    |   Package punkt is already up-to-date!\n",
      "[nltk_data]    | Downloading package qc to\n",
      "[nltk_data]    |     /Users/isaacfernandez/nltk_data...\n",
      "[nltk_data]    |   Package qc is already up-to-date!\n",
      "[nltk_data]    | Downloading package reuters to\n",
      "[nltk_data]    |     /Users/isaacfernandez/nltk_data...\n",
      "[nltk_data]    |   Package reuters is already up-to-date!\n",
      "[nltk_data]    | Downloading package rslp to\n",
      "[nltk_data]    |     /Users/isaacfernandez/nltk_data...\n",
      "[nltk_data]    |   Package rslp is already up-to-date!\n",
      "[nltk_data]    | Downloading package rte to\n",
      "[nltk_data]    |     /Users/isaacfernandez/nltk_data...\n",
      "[nltk_data]    |   Package rte is already up-to-date!\n",
      "[nltk_data]    | Downloading package sample_grammars to\n",
      "[nltk_data]    |     /Users/isaacfernandez/nltk_data...\n",
      "[nltk_data]    |   Package sample_grammars is already up-to-date!\n",
      "[nltk_data]    | Downloading package semcor to\n",
      "[nltk_data]    |     /Users/isaacfernandez/nltk_data...\n",
      "[nltk_data]    |   Package semcor is already up-to-date!\n",
      "[nltk_data]    | Downloading package senseval to\n",
      "[nltk_data]    |     /Users/isaacfernandez/nltk_data...\n",
      "[nltk_data]    |   Package senseval is already up-to-date!\n",
      "[nltk_data]    | Downloading package sentence_polarity to\n",
      "[nltk_data]    |     /Users/isaacfernandez/nltk_data...\n",
      "[nltk_data]    |   Package sentence_polarity is already up-to-date!\n",
      "[nltk_data]    | Downloading package sentiwordnet to\n",
      "[nltk_data]    |     /Users/isaacfernandez/nltk_data...\n"
     ]
    },
    {
     "name": "stdout",
     "output_type": "stream",
     "text": [
      "[nltk_data]    |   Package sentiwordnet is already up-to-date!\n",
      "[nltk_data]    | Downloading package shakespeare to\n",
      "[nltk_data]    |     /Users/isaacfernandez/nltk_data...\n",
      "[nltk_data]    |   Package shakespeare is already up-to-date!\n",
      "[nltk_data]    | Downloading package sinica_treebank to\n",
      "[nltk_data]    |     /Users/isaacfernandez/nltk_data...\n",
      "[nltk_data]    |   Package sinica_treebank is already up-to-date!\n",
      "[nltk_data]    | Downloading package smultron to\n",
      "[nltk_data]    |     /Users/isaacfernandez/nltk_data...\n",
      "[nltk_data]    |   Package smultron is already up-to-date!\n",
      "[nltk_data]    | Downloading package snowball_data to\n",
      "[nltk_data]    |     /Users/isaacfernandez/nltk_data...\n",
      "[nltk_data]    |   Package snowball_data is already up-to-date!\n",
      "[nltk_data]    | Downloading package spanish_grammars to\n",
      "[nltk_data]    |     /Users/isaacfernandez/nltk_data...\n",
      "[nltk_data]    |   Package spanish_grammars is already up-to-date!\n",
      "[nltk_data]    | Downloading package state_union to\n",
      "[nltk_data]    |     /Users/isaacfernandez/nltk_data...\n",
      "[nltk_data]    |   Package state_union is already up-to-date!\n",
      "[nltk_data]    | Downloading package stopwords to\n",
      "[nltk_data]    |     /Users/isaacfernandez/nltk_data...\n",
      "[nltk_data]    |   Package stopwords is already up-to-date!\n",
      "[nltk_data]    | Downloading package subjectivity to\n",
      "[nltk_data]    |     /Users/isaacfernandez/nltk_data...\n",
      "[nltk_data]    |   Package subjectivity is already up-to-date!\n",
      "[nltk_data]    | Downloading package swadesh to\n",
      "[nltk_data]    |     /Users/isaacfernandez/nltk_data...\n",
      "[nltk_data]    |   Package swadesh is already up-to-date!\n",
      "[nltk_data]    | Downloading package switchboard to\n",
      "[nltk_data]    |     /Users/isaacfernandez/nltk_data...\n",
      "[nltk_data]    |   Package switchboard is already up-to-date!\n",
      "[nltk_data]    | Downloading package tagsets to\n",
      "[nltk_data]    |     /Users/isaacfernandez/nltk_data...\n",
      "[nltk_data]    |   Package tagsets is already up-to-date!\n",
      "[nltk_data]    | Downloading package timit to\n",
      "[nltk_data]    |     /Users/isaacfernandez/nltk_data...\n",
      "[nltk_data]    |   Package timit is already up-to-date!\n",
      "[nltk_data]    | Downloading package toolbox to\n",
      "[nltk_data]    |     /Users/isaacfernandez/nltk_data...\n",
      "[nltk_data]    |   Package toolbox is already up-to-date!\n",
      "[nltk_data]    | Downloading package treebank to\n",
      "[nltk_data]    |     /Users/isaacfernandez/nltk_data...\n",
      "[nltk_data]    |   Package treebank is already up-to-date!\n",
      "[nltk_data]    | Downloading package twitter_samples to\n",
      "[nltk_data]    |     /Users/isaacfernandez/nltk_data...\n",
      "[nltk_data]    |   Package twitter_samples is already up-to-date!\n",
      "[nltk_data]    | Downloading package udhr to\n",
      "[nltk_data]    |     /Users/isaacfernandez/nltk_data...\n",
      "[nltk_data]    |   Package udhr is already up-to-date!\n",
      "[nltk_data]    | Downloading package udhr2 to\n",
      "[nltk_data]    |     /Users/isaacfernandez/nltk_data...\n",
      "[nltk_data]    |   Package udhr2 is already up-to-date!\n",
      "[nltk_data]    | Downloading package unicode_samples to\n",
      "[nltk_data]    |     /Users/isaacfernandez/nltk_data...\n",
      "[nltk_data]    |   Package unicode_samples is already up-to-date!\n",
      "[nltk_data]    | Downloading package universal_tagset to\n",
      "[nltk_data]    |     /Users/isaacfernandez/nltk_data...\n",
      "[nltk_data]    |   Package universal_tagset is already up-to-date!\n",
      "[nltk_data]    | Downloading package universal_treebanks_v20 to\n",
      "[nltk_data]    |     /Users/isaacfernandez/nltk_data...\n",
      "[nltk_data]    |   Package universal_treebanks_v20 is already up-to-\n",
      "[nltk_data]    |       date!\n",
      "[nltk_data]    | Downloading package vader_lexicon to\n",
      "[nltk_data]    |     /Users/isaacfernandez/nltk_data...\n",
      "[nltk_data]    |   Package vader_lexicon is already up-to-date!\n",
      "[nltk_data]    | Downloading package verbnet to\n",
      "[nltk_data]    |     /Users/isaacfernandez/nltk_data...\n",
      "[nltk_data]    |   Package verbnet is already up-to-date!\n",
      "[nltk_data]    | Downloading package verbnet3 to\n",
      "[nltk_data]    |     /Users/isaacfernandez/nltk_data...\n",
      "[nltk_data]    |   Package verbnet3 is already up-to-date!\n",
      "[nltk_data]    | Downloading package webtext to\n",
      "[nltk_data]    |     /Users/isaacfernandez/nltk_data...\n",
      "[nltk_data]    |   Package webtext is already up-to-date!\n",
      "[nltk_data]    | Downloading package wmt15_eval to\n",
      "[nltk_data]    |     /Users/isaacfernandez/nltk_data...\n",
      "[nltk_data]    |   Package wmt15_eval is already up-to-date!\n",
      "[nltk_data]    | Downloading package word2vec_sample to\n",
      "[nltk_data]    |     /Users/isaacfernandez/nltk_data...\n",
      "[nltk_data]    |   Package word2vec_sample is already up-to-date!\n",
      "[nltk_data]    | Downloading package wordnet to\n",
      "[nltk_data]    |     /Users/isaacfernandez/nltk_data...\n",
      "[nltk_data]    |   Package wordnet is already up-to-date!\n",
      "[nltk_data]    | Downloading package wordnet2021 to\n",
      "[nltk_data]    |     /Users/isaacfernandez/nltk_data...\n",
      "[nltk_data]    |   Package wordnet2021 is already up-to-date!\n",
      "[nltk_data]    | Downloading package wordnet2022 to\n",
      "[nltk_data]    |     /Users/isaacfernandez/nltk_data...\n",
      "[nltk_data]    |   Package wordnet2022 is already up-to-date!\n",
      "[nltk_data]    | Downloading package wordnet31 to\n",
      "[nltk_data]    |     /Users/isaacfernandez/nltk_data...\n",
      "[nltk_data]    |   Package wordnet31 is already up-to-date!\n",
      "[nltk_data]    | Downloading package wordnet_ic to\n",
      "[nltk_data]    |     /Users/isaacfernandez/nltk_data...\n",
      "[nltk_data]    |   Package wordnet_ic is already up-to-date!\n",
      "[nltk_data]    | Downloading package words to\n",
      "[nltk_data]    |     /Users/isaacfernandez/nltk_data...\n",
      "[nltk_data]    |   Package words is already up-to-date!\n",
      "[nltk_data]    | Downloading package ycoe to\n",
      "[nltk_data]    |     /Users/isaacfernandez/nltk_data...\n",
      "[nltk_data]    |   Package ycoe is already up-to-date!\n",
      "[nltk_data]    | \n",
      "[nltk_data]  Done downloading collection all\n",
      "Error processing line 3 of /Users/isaacfernandez/opt/anaconda3/lib/python3.9/site-packages/googleapis_common_protos-1.56.3-py3.10-nspkg.pth:\n",
      "\n",
      "  Traceback (most recent call last):\n",
      "    File \"/Users/isaacfernandez/opt/anaconda3/lib/python3.9/site.py\", line 169, in addpackage\n",
      "      exec(line)\n",
      "    File \"<string>\", line 1, in <module>\n",
      "    File \"<frozen importlib._bootstrap>\", line 562, in module_from_spec\n",
      "  AttributeError: 'NoneType' object has no attribute 'loader'\n",
      "\n",
      "Remainder of file ignored\n",
      "Requirement already satisfied: keras in /Users/isaacfernandez/opt/anaconda3/lib/python3.9/site-packages (2.11.0)\n",
      "Requirement already satisfied: tensorflow in /Users/isaacfernandez/opt/anaconda3/lib/python3.9/site-packages (2.11.0)\n",
      "Requirement already satisfied: opt-einsum>=2.3.2 in /Users/isaacfernandez/opt/anaconda3/lib/python3.9/site-packages (from tensorflow) (3.3.0)\n",
      "Requirement already satisfied: tensorflow-io-gcs-filesystem>=0.23.1 in /Users/isaacfernandez/opt/anaconda3/lib/python3.9/site-packages (from tensorflow) (0.31.0)\n",
      "Requirement already satisfied: gast<=0.4.0,>=0.2.1 in /Users/isaacfernandez/opt/anaconda3/lib/python3.9/site-packages (from tensorflow) (0.4.0)\n",
      "Requirement already satisfied: google-pasta>=0.1.1 in /Users/isaacfernandez/opt/anaconda3/lib/python3.9/site-packages (from tensorflow) (0.2.0)\n",
      "Requirement already satisfied: h5py>=2.9.0 in /Users/isaacfernandez/opt/anaconda3/lib/python3.9/site-packages (from tensorflow) (3.7.0)\n",
      "Requirement already satisfied: libclang>=13.0.0 in /Users/isaacfernandez/opt/anaconda3/lib/python3.9/site-packages (from tensorflow) (15.0.6.1)\n",
      "Requirement already satisfied: wrapt>=1.11.0 in /Users/isaacfernandez/opt/anaconda3/lib/python3.9/site-packages (from tensorflow) (1.14.1)\n",
      "Requirement already satisfied: tensorflow-estimator<2.12,>=2.11.0 in /Users/isaacfernandez/opt/anaconda3/lib/python3.9/site-packages (from tensorflow) (2.11.0)\n",
      "Requirement already satisfied: tensorboard<2.12,>=2.11 in /Users/isaacfernandez/opt/anaconda3/lib/python3.9/site-packages (from tensorflow) (2.11.2)\n",
      "Requirement already satisfied: packaging in /Users/isaacfernandez/opt/anaconda3/lib/python3.9/site-packages (from tensorflow) (21.3)\n",
      "Requirement already satisfied: protobuf<3.20,>=3.9.2 in /Users/isaacfernandez/opt/anaconda3/lib/python3.9/site-packages (from tensorflow) (3.19.6)\n",
      "Requirement already satisfied: grpcio<2.0,>=1.24.3 in /Users/isaacfernandez/opt/anaconda3/lib/python3.9/site-packages (from tensorflow) (1.47.0)\n",
      "Requirement already satisfied: termcolor>=1.1.0 in /Users/isaacfernandez/opt/anaconda3/lib/python3.9/site-packages (from tensorflow) (2.2.0)\n",
      "Requirement already satisfied: absl-py>=1.0.0 in /Users/isaacfernandez/opt/anaconda3/lib/python3.9/site-packages (from tensorflow) (1.4.0)\n",
      "Requirement already satisfied: astunparse>=1.6.0 in /Users/isaacfernandez/opt/anaconda3/lib/python3.9/site-packages (from tensorflow) (1.6.3)\n",
      "Requirement already satisfied: typing-extensions>=3.6.6 in /Users/isaacfernandez/opt/anaconda3/lib/python3.9/site-packages (from tensorflow) (4.3.0)\n",
      "Requirement already satisfied: six>=1.12.0 in /Users/isaacfernandez/opt/anaconda3/lib/python3.9/site-packages (from tensorflow) (1.16.0)\n",
      "Requirement already satisfied: flatbuffers>=2.0 in /Users/isaacfernandez/opt/anaconda3/lib/python3.9/site-packages (from tensorflow) (23.1.21)\n",
      "Requirement already satisfied: setuptools in /Users/isaacfernandez/opt/anaconda3/lib/python3.9/site-packages (from tensorflow) (63.4.1)\n",
      "Requirement already satisfied: numpy>=1.20 in /Users/isaacfernandez/opt/anaconda3/lib/python3.9/site-packages (from tensorflow) (1.21.5)\n",
      "Requirement already satisfied: wheel<1.0,>=0.23.0 in /Users/isaacfernandez/opt/anaconda3/lib/python3.9/site-packages (from astunparse>=1.6.0->tensorflow) (0.37.1)\n"
     ]
    },
    {
     "name": "stdout",
     "output_type": "stream",
     "text": [
      "Requirement already satisfied: google-auth<3,>=1.6.3 in /Users/isaacfernandez/opt/anaconda3/lib/python3.9/site-packages (from tensorboard<2.12,>=2.11->tensorflow) (2.16.1)\n",
      "Requirement already satisfied: requests<3,>=2.21.0 in /Users/isaacfernandez/opt/anaconda3/lib/python3.9/site-packages (from tensorboard<2.12,>=2.11->tensorflow) (2.28.1)\n",
      "Requirement already satisfied: markdown>=2.6.8 in /Users/isaacfernandez/opt/anaconda3/lib/python3.9/site-packages (from tensorboard<2.12,>=2.11->tensorflow) (3.4.1)\n",
      "Requirement already satisfied: tensorboard-data-server<0.7.0,>=0.6.0 in /Users/isaacfernandez/opt/anaconda3/lib/python3.9/site-packages (from tensorboard<2.12,>=2.11->tensorflow) (0.6.1)\n",
      "Requirement already satisfied: tensorboard-plugin-wit>=1.6.0 in /Users/isaacfernandez/opt/anaconda3/lib/python3.9/site-packages (from tensorboard<2.12,>=2.11->tensorflow) (1.8.1)\n",
      "Requirement already satisfied: werkzeug>=1.0.1 in /Users/isaacfernandez/opt/anaconda3/lib/python3.9/site-packages (from tensorboard<2.12,>=2.11->tensorflow) (2.0.3)\n",
      "Requirement already satisfied: google-auth-oauthlib<0.5,>=0.4.1 in /Users/isaacfernandez/opt/anaconda3/lib/python3.9/site-packages (from tensorboard<2.12,>=2.11->tensorflow) (0.4.6)\n",
      "Requirement already satisfied: pyparsing!=3.0.5,>=2.0.2 in /Users/isaacfernandez/opt/anaconda3/lib/python3.9/site-packages (from packaging->tensorflow) (3.0.9)\n",
      "Requirement already satisfied: cachetools<6.0,>=2.0.0 in /Users/isaacfernandez/opt/anaconda3/lib/python3.9/site-packages (from google-auth<3,>=1.6.3->tensorboard<2.12,>=2.11->tensorflow) (5.3.0)\n",
      "Requirement already satisfied: rsa<5,>=3.1.4 in /Users/isaacfernandez/opt/anaconda3/lib/python3.9/site-packages (from google-auth<3,>=1.6.3->tensorboard<2.12,>=2.11->tensorflow) (4.9)\n",
      "Requirement already satisfied: pyasn1-modules>=0.2.1 in /Users/isaacfernandez/opt/anaconda3/lib/python3.9/site-packages (from google-auth<3,>=1.6.3->tensorboard<2.12,>=2.11->tensorflow) (0.2.8)\n",
      "Requirement already satisfied: requests-oauthlib>=0.7.0 in /Users/isaacfernandez/opt/anaconda3/lib/python3.9/site-packages (from google-auth-oauthlib<0.5,>=0.4.1->tensorboard<2.12,>=2.11->tensorflow) (1.3.1)\n",
      "Requirement already satisfied: importlib-metadata>=4.4 in /Users/isaacfernandez/opt/anaconda3/lib/python3.9/site-packages (from markdown>=2.6.8->tensorboard<2.12,>=2.11->tensorflow) (4.11.3)\n",
      "Requirement already satisfied: urllib3<1.27,>=1.21.1 in /Users/isaacfernandez/opt/anaconda3/lib/python3.9/site-packages (from requests<3,>=2.21.0->tensorboard<2.12,>=2.11->tensorflow) (1.26.11)\n",
      "Requirement already satisfied: certifi>=2017.4.17 in /Users/isaacfernandez/opt/anaconda3/lib/python3.9/site-packages (from requests<3,>=2.21.0->tensorboard<2.12,>=2.11->tensorflow) (2022.12.7)\n",
      "Requirement already satisfied: charset-normalizer<3,>=2 in /Users/isaacfernandez/opt/anaconda3/lib/python3.9/site-packages (from requests<3,>=2.21.0->tensorboard<2.12,>=2.11->tensorflow) (2.0.4)\n",
      "Requirement already satisfied: idna<4,>=2.5 in /Users/isaacfernandez/opt/anaconda3/lib/python3.9/site-packages (from requests<3,>=2.21.0->tensorboard<2.12,>=2.11->tensorflow) (3.3)\n",
      "Requirement already satisfied: zipp>=0.5 in /Users/isaacfernandez/opt/anaconda3/lib/python3.9/site-packages (from importlib-metadata>=4.4->markdown>=2.6.8->tensorboard<2.12,>=2.11->tensorflow) (3.8.0)\n",
      "Requirement already satisfied: pyasn1<0.5.0,>=0.4.6 in /Users/isaacfernandez/opt/anaconda3/lib/python3.9/site-packages (from pyasn1-modules>=0.2.1->google-auth<3,>=1.6.3->tensorboard<2.12,>=2.11->tensorflow) (0.4.8)\n",
      "Requirement already satisfied: oauthlib>=3.0.0 in /Users/isaacfernandez/opt/anaconda3/lib/python3.9/site-packages (from requests-oauthlib>=0.7.0->google-auth-oauthlib<0.5,>=0.4.1->tensorboard<2.12,>=2.11->tensorflow) (3.2.2)\n"
     ]
    }
   ],
   "source": [
    "!pip install SentimentAnalysis\n",
    "\n",
    "!pip install nltk\n",
    "!pip install --upgrade pip\n",
    "!python -m nltk.downloader all\n",
    "\n",
    "\n",
    "!pip install keras tensorflow\n",
    "     \n"
   ]
  },
  {
   "cell_type": "code",
   "execution_count": 16,
   "id": "704156ba",
   "metadata": {},
   "outputs": [
    {
     "name": "stdout",
     "output_type": "stream",
     "text": [
      "['verified_reviews']\n",
      "['Love my Echo!']\n",
      "['Loved it!']\n",
      "['\"Sometimes while playing a game, you can answer a question correctly but Alexa says you got it wrong and answers the same as you.  I like being able to turn lights on and off while away from home.\"']\n",
      "['\"I have had a lot of fun with this thing. My 4 yr old learns about dinosaurs, i control the lights and play games like categories. Has nice sound when playing music as well.\"']\n"
     ]
    }
   ],
   "source": [
    "rdd_amazon = spark.sparkContext.textFile('/Users/isaacfernandez/DS/6th semester/big data/amazon_alexa.csv').map(lambda x: x.split('*'))\n",
    "\n",
    "for opinion in rdd_amazon.take(5):\n",
    "  print(opinion)"
   ]
  },
  {
   "cell_type": "code",
   "execution_count": 29,
   "id": "01650e13",
   "metadata": {},
   "outputs": [],
   "source": [
    "rdd_description = spark.sparkContext.textFile('/Users/isaacfernandez/DS/6th semester/data quality/description.csv').map(lambda x: x.split('*'))"
   ]
  },
  {
   "cell_type": "code",
   "execution_count": 30,
   "id": "681b0a0d",
   "metadata": {},
   "outputs": [
    {
     "name": "stdout",
     "output_type": "stream",
     "text": [
      "verified_reviews\n",
      "love my echo!\n",
      "loved it!\n",
      "\"sometimes while playing a game, you can answer a question correctly but alexa says you got it wrong and answers the same as you.  i like being able to turn lights on and off while away from home.\"\n",
      "\"i have had a lot of fun with this thing. my 4 yr old learns about dinosaurs, i control the lights and play games like categories. has nice sound when playing music as well.\"\n"
     ]
    }
   ],
   "source": [
    "# Transformar textos a minúsculas\n",
    "rdd_minus = rdd_amazon.map(lambda x: (x[0].lower()))\n",
    "\n",
    "for letra in rdd_minus.take(5):\n",
    "  print(letra)"
   ]
  },
  {
   "cell_type": "code",
   "execution_count": 31,
   "id": "233316f7",
   "metadata": {},
   "outputs": [
    {
     "name": "stdout",
     "output_type": "stream",
     "text": [
      "verified_reviews\n",
      "\"i am a data science student with a profound passion for technology and knowledge. i believe artificial intelligence will drive an astonishing revolution for mankind, in every possible way. being a part of it, is one my greatest drives. openness is the greatest trait of my personality, i am always willing to learn. \"\n"
     ]
    }
   ],
   "source": [
    "# Transformar textos a minúsculas\n",
    "rdd_minus = rdd_description.map(lambda x: (x[0].lower()))\n",
    "\n",
    "for letra in rdd_minus.take(5):\n",
    "  print(letra)"
   ]
  },
  {
   "cell_type": "code",
   "execution_count": 32,
   "id": "33328626",
   "metadata": {},
   "outputs": [
    {
     "name": "stdout",
     "output_type": "stream",
     "text": [
      "['verified_reviews']\n",
      "['\"i', 'am', 'a', 'data', 'science', 'student', 'with', 'a', 'profound', 'passion', 'for', 'technology', 'and', 'knowledge.', 'i', 'believe', 'artificial', 'intelligence', 'will', 'drive', 'an', 'astonishing', 'revolution', 'for', 'mankind,', 'in', 'every', 'possible', 'way.', 'being', 'a', 'part', 'of', 'it,', 'is', 'one', 'my', 'greatest', 'drives.', 'openness', 'is', 'the', 'greatest', 'trait', 'of', 'my', 'personality,', 'i', 'am', 'always', 'willing', 'to', 'learn.', '\"']\n"
     ]
    }
   ],
   "source": [
    "# Para poder tratar con el texto a nivel de palabras debemos hacer lo siguiente\n",
    "rdd_palabras = rdd_minus.map(lambda x: (x.split(' ')))\n",
    "\n",
    "for letra in rdd_palabras.take(5):\n",
    "  print(letra)"
   ]
  },
  {
   "cell_type": "code",
   "execution_count": 33,
   "id": "446269ef",
   "metadata": {},
   "outputs": [
    {
     "name": "stderr",
     "output_type": "stream",
     "text": [
      "\r",
      "[Stage 34:>                                                         (0 + 1) / 1]\r"
     ]
    },
    {
     "name": "stdout",
     "output_type": "stream",
     "text": [
      "['verified_reviews']\n",
      "['\"i', 'data', 'science', 'student', 'profound', 'passion', 'technology', 'knowledge.', 'believe', 'artificial', 'intelligence', 'drive', 'astonishing', 'revolution', 'mankind,', 'every', 'possible', 'way.', 'part', 'it,', 'one', 'greatest', 'drives.', 'openness', 'greatest', 'trait', 'personality,', 'always', 'willing', 'learn.', '\"']\n"
     ]
    },
    {
     "name": "stderr",
     "output_type": "stream",
     "text": [
      "\r",
      "                                                                                \r"
     ]
    }
   ],
   "source": [
    "#Removemos stopwords (palabras vacias)\n",
    "def removeStopWordsFunct(x):\n",
    "    from nltk.corpus import stopwords\n",
    "    stop_words=set(stopwords.words('english'))\n",
    "    filteredSentence = [w for w in x if not w in stop_words]\n",
    "    return filteredSentence\n",
    "\n",
    "rdd_stop = rdd_palabras.map(removeStopWordsFunct)\n",
    "\n",
    "for palabra in rdd_stop.take(10):\n",
    "  print(palabra)"
   ]
  },
  {
   "cell_type": "code",
   "execution_count": 34,
   "id": "3dbe621b",
   "metadata": {},
   "outputs": [
    {
     "name": "stdout",
     "output_type": "stream",
     "text": [
      "['verifiedreviews']\n",
      "['i', 'data', 'science', 'student', 'profound', 'passion', 'technology', 'knowledge', 'believe', 'artificial', 'intelligence', 'drive', 'astonishing', 'revolution', 'mankind', 'every', 'possible', 'way', 'part', 'it', 'one', 'greatest', 'drives', 'openness', 'greatest', 'trait', 'personality', 'always', 'willing', 'learn', '']\n"
     ]
    }
   ],
   "source": [
    "#Eliminamos signos de puntuación y espacios en blanco\n",
    "import string\n",
    "def removePunctuationsFunct(x):\n",
    "    list_punct=list(string.punctuation)\n",
    "    filtered = [''.join(c for c in s if c not in list_punct) for s in x] \n",
    "    filtered_space = [s for s in filtered if s] #remove empty space \n",
    "    return filtered\n",
    "\n",
    "rdd_punct = rdd_stop.map(removePunctuationsFunct)\n",
    "\n",
    "for palabra in rdd_punct.take(10):\n",
    "  print(palabra)"
   ]
  },
  {
   "cell_type": "code",
   "execution_count": 35,
   "id": "f0f97e9c",
   "metadata": {},
   "outputs": [
    {
     "name": "stderr",
     "output_type": "stream",
     "text": [
      "                                                                                \r"
     ]
    },
    {
     "data": {
      "text/plain": [
       "[('greatest', 2),\n",
       " ('i', 1),\n",
       " ('science', 1),\n",
       " ('student', 1),\n",
       " ('passion', 1),\n",
       " ('technology', 1),\n",
       " ('knowledge', 1),\n",
       " ('believe', 1),\n",
       " ('artificial', 1),\n",
       " ('astonishing', 1)]"
      ]
     },
     "execution_count": 35,
     "metadata": {},
     "output_type": "execute_result"
    }
   ],
   "source": [
    "\n",
    "#Vamos a extrer la frecuencia de las palabras más usadas\n",
    "freqDistRDD = rdd_punct.flatMap(lambda x : nltk.FreqDist(x).most_common()).map(lambda x: x).reduceByKey(lambda x,y : x+y).sortBy(lambda x: x[1], ascending = False)\n",
    "\n",
    "freqDistRDD.take(10)"
   ]
  },
  {
   "cell_type": "code",
   "execution_count": 36,
   "id": "a5711641",
   "metadata": {},
   "outputs": [
    {
     "data": {
      "text/plain": [
       "[[('verifiedreviews', 'Neutral')],\n",
       " [('i', 'Neutral'),\n",
       "  ('data', 'Neutral'),\n",
       "  ('science', 'Neutral'),\n",
       "  ('student', 'Neutral'),\n",
       "  ('profound', 'Neutral'),\n",
       "  ('passion', 'Positive'),\n",
       "  ('technology', 'Neutral'),\n",
       "  ('knowledge', 'Neutral'),\n",
       "  ('believe', 'Neutral'),\n",
       "  ('artificial', 'Neutral'),\n",
       "  ('intelligence', 'Positive'),\n",
       "  ('drive', 'Neutral'),\n",
       "  ('astonishing', 'Neutral'),\n",
       "  ('revolution', 'Neutral'),\n",
       "  ('mankind', 'Neutral'),\n",
       "  ('every', 'Neutral'),\n",
       "  ('possible', 'Neutral'),\n",
       "  ('way', 'Neutral'),\n",
       "  ('part', 'Neutral'),\n",
       "  ('it', 'Neutral'),\n",
       "  ('one', 'Neutral'),\n",
       "  ('greatest', 'Positive'),\n",
       "  ('drives', 'Neutral'),\n",
       "  ('openness', 'Positive'),\n",
       "  ('greatest', 'Positive'),\n",
       "  ('trait', 'Neutral'),\n",
       "  ('personality', 'Neutral'),\n",
       "  ('always', 'Neutral'),\n",
       "  ('willing', 'Neutral'),\n",
       "  ('learn', 'Neutral'),\n",
       "  ('', 'Neutral')]]"
      ]
     },
     "execution_count": 36,
     "metadata": {},
     "output_type": "execute_result"
    }
   ],
   "source": [
    "from nltk.sentiment.vader import SentimentIntensityAnalyzer\n",
    "def sentimentWordsFunct(x):\n",
    "  analyzer = SentimentIntensityAnalyzer() \n",
    "  senti_list_temp = []\n",
    "  for i in x:\n",
    "    y = ''.join(i) \n",
    "    vs = analyzer.polarity_scores(y)\n",
    "    senti_list_temp.append((y, vs))\n",
    "    senti_list_temp = [w for w in senti_list_temp if w]\n",
    "  sentiment_list  = []\n",
    "  for j in senti_list_temp:\n",
    "    first = j[0]\n",
    "    second = j[1]\n",
    "    \n",
    "    for (k,v) in second.items():\n",
    "      if k == 'compound':\n",
    "        if v < 0.0:\n",
    "          sentiment_list.append((first, \"Negative\"))\n",
    "        elif v == 0.0:\n",
    "          sentiment_list.append((first, \"Neutral\"))\n",
    "        else:\n",
    "          sentiment_list.append((first, \"Positive\"))\n",
    "  return sentiment_list\n",
    "\n",
    "sentimentRDD = rdd_punct.map(sentimentWordsFunct)\n",
    "sentimentRDD.collect()"
   ]
  },
  {
   "cell_type": "code",
   "execution_count": 37,
   "id": "a60fcec3",
   "metadata": {},
   "outputs": [],
   "source": [
    "words = sentimentRDD.map(lambda x:x[1])\n"
   ]
  },
  {
   "cell_type": "code",
   "execution_count": 38,
   "id": "82aace93",
   "metadata": {},
   "outputs": [],
   "source": [
    "counts = words.map(lambda x: (x, 1)).reduceByKey(lambda x, y: x + y)"
   ]
  },
  {
   "cell_type": "code",
   "execution_count": 39,
   "id": "4b4381d8",
   "metadata": {},
   "outputs": [],
   "source": [
    "counts = sentimentRDD.map(lambda x: [x[0], x[1]])"
   ]
  },
  {
   "cell_type": "code",
   "execution_count": 40,
   "id": "4f302bbb",
   "metadata": {},
   "outputs": [],
   "source": [
    "def sentimentWordsFunct(x):\n",
    "  from nltk.sentiment.vader import SentimentIntensityAnalyzer\n",
    "  analyzer = SentimentIntensityAnalyzer() \n",
    "  senti_list_temp = []\n",
    "  for i in x:\n",
    "    y = ''.join(i) \n",
    "    vs = analyzer.polarity_scores(y)\n",
    "    senti_list_temp.append((y, vs))\n",
    "    senti_list_temp = [w for w in senti_list_temp if w]\n",
    "  sentiment_list  = []\n",
    "  for j in senti_list_temp:\n",
    "    first = j[0]\n",
    "    second = j[1]\n",
    "    \n",
    "    for (k,v) in second.items():\n",
    "      if k == 'compound':\n",
    "        if v < 0.0:\n",
    "          sentiment_list.append((first, -1))\n",
    "        elif v == 0.0:\n",
    "          sentiment_list.append((first, 0))\n",
    "        else:\n",
    "          sentiment_list.append((first, 1))\n",
    "  return sentiment_list\n",
    "sentimentRDD = rdd_punct.map(sentimentWordsFunct)\n",
    "def sumar_tuplas(lista_tuplas):\n",
    "    return np.sum([tupla[1] for tupla in lista_tuplas])\n",
    "rdd_sumas = sentimentRDD.map(sumar_tuplas)\n",
    "rdd_f = rdd_amazon.zip(rdd_sumas).map(lambda x: [x[0], x[1]])\n",
    "def transformacion(tupla):\n",
    "  if tupla[1] > 0:\n",
    "    tupla[1] = 'Positive'\n",
    "  elif tupla[1] == 0:\n",
    "    tupla[1] = 'Neutral'\n",
    "  else:\n",
    "    tupla[1] = \"Negative\"\n",
    "  return tupla\n",
    "rdd_final = rdd_f.map(transformacion)\n",
    "second_entries = rdd_final.map(lambda x: x[1])\n",
    "counts = second_entries.map(lambda x: (x, 1)).reduceByKey(lambda x, y: x + y)"
   ]
  },
  {
   "cell_type": "code",
   "execution_count": 41,
   "id": "c26aed1e",
   "metadata": {},
   "outputs": [
    {
     "name": "stdout",
     "output_type": "stream",
     "text": [
      "23/03/14 21:50:11 ERROR PythonRunner: Python worker exited unexpectedly (crashed)\n",
      "org.apache.spark.api.python.PythonException: Traceback (most recent call last):\n",
      "  File \"/Users/isaacfernandez/opt/anaconda3/lib/python3.9/site-packages/pyspark/python/lib/pyspark.zip/pyspark/worker.py\", line 666, in main\n",
      "    eval_type = read_int(infile)\n",
      "  File \"/Users/isaacfernandez/opt/anaconda3/lib/python3.9/site-packages/pyspark/python/lib/pyspark.zip/pyspark/serializers.py\", line 595, in read_int\n",
      "    raise EOFError\n",
      "EOFError\n",
      "\n",
      "\tat org.apache.spark.api.python.BasePythonRunner$ReaderIterator.handlePythonException(PythonRunner.scala:559)\n",
      "\tat org.apache.spark.api.python.PythonRunner$$anon$3.read(PythonRunner.scala:765)\n",
      "\tat org.apache.spark.api.python.PythonRunner$$anon$3.read(PythonRunner.scala:747)\n",
      "\tat org.apache.spark.api.python.BasePythonRunner$ReaderIterator.hasNext(PythonRunner.scala:512)\n",
      "\tat org.apache.spark.InterruptibleIterator.hasNext(InterruptibleIterator.scala:37)\n",
      "\tat scala.collection.Iterator$GroupedIterator.fill(Iterator.scala:1211)\n",
      "\tat scala.collection.Iterator$GroupedIterator.hasNext(Iterator.scala:1217)\n",
      "\tat scala.collection.Iterator$$anon$10.hasNext(Iterator.scala:460)\n",
      "\tat org.apache.spark.shuffle.sort.BypassMergeSortShuffleWriter.write(BypassMergeSortShuffleWriter.java:140)\n",
      "\tat org.apache.spark.shuffle.ShuffleWriteProcessor.write(ShuffleWriteProcessor.scala:59)\n",
      "\tat org.apache.spark.scheduler.ShuffleMapTask.runTask(ShuffleMapTask.scala:99)\n",
      "\tat org.apache.spark.scheduler.ShuffleMapTask.runTask(ShuffleMapTask.scala:52)\n",
      "\tat org.apache.spark.scheduler.Task.run(Task.scala:136)\n",
      "\tat org.apache.spark.executor.Executor$TaskRunner.$anonfun$run$3(Executor.scala:548)\n",
      "\tat org.apache.spark.util.Utils$.tryWithSafeFinally(Utils.scala:1504)\n",
      "\tat org.apache.spark.executor.Executor$TaskRunner.run(Executor.scala:551)\n",
      "\tat java.base/java.util.concurrent.ThreadPoolExecutor.runWorker(ThreadPoolExecutor.java:1144)\n",
      "\tat java.base/java.util.concurrent.ThreadPoolExecutor$Worker.run(ThreadPoolExecutor.java:642)\n",
      "\tat java.base/java.lang.Thread.run(Thread.java:1589)\n",
      "Caused by: org.apache.spark.SparkException: Can only zip RDDs with same number of elements in each partition\n",
      "\tat org.apache.spark.errors.SparkCoreErrors$.canOnlyZipRDDsWithSamePartitionSizeError(SparkCoreErrors.scala:115)\n",
      "\tat org.apache.spark.rdd.RDD$$anon$3.hasNext(RDD.scala:946)\n",
      "\tat scala.collection.Iterator.foreach(Iterator.scala:943)\n",
      "\tat scala.collection.Iterator.foreach$(Iterator.scala:943)\n",
      "\tat org.apache.spark.rdd.RDD$$anon$3.foreach(RDD.scala:942)\n",
      "\tat org.apache.spark.api.python.PythonRDD$.writeIteratorToStream(PythonRDD.scala:307)\n",
      "\tat org.apache.spark.api.python.PythonRunner$$anon$2.writeIteratorToStream(PythonRunner.scala:732)\n",
      "\tat org.apache.spark.api.python.BasePythonRunner$WriterThread.$anonfun$run$1(PythonRunner.scala:438)\n",
      "\tat org.apache.spark.util.Utils$.logUncaughtExceptions(Utils.scala:2066)\n",
      "\tat org.apache.spark.api.python.BasePythonRunner$WriterThread.run(PythonRunner.scala:272)\n",
      "23/03/14 21:50:11 ERROR PythonRunner: This may have been caused by a prior exception:\n",
      "org.apache.spark.SparkException: Can only zip RDDs with same number of elements in each partition\n",
      "\tat org.apache.spark.errors.SparkCoreErrors$.canOnlyZipRDDsWithSamePartitionSizeError(SparkCoreErrors.scala:115)\n",
      "\tat org.apache.spark.rdd.RDD$$anon$3.hasNext(RDD.scala:946)\n",
      "\tat scala.collection.Iterator.foreach(Iterator.scala:943)\n",
      "\tat scala.collection.Iterator.foreach$(Iterator.scala:943)\n",
      "\tat org.apache.spark.rdd.RDD$$anon$3.foreach(RDD.scala:942)\n",
      "\tat org.apache.spark.api.python.PythonRDD$.writeIteratorToStream(PythonRDD.scala:307)\n",
      "\tat org.apache.spark.api.python.PythonRunner$$anon$2.writeIteratorToStream(PythonRunner.scala:732)\n",
      "\tat org.apache.spark.api.python.BasePythonRunner$WriterThread.$anonfun$run$1(PythonRunner.scala:438)\n",
      "\tat org.apache.spark.util.Utils$.logUncaughtExceptions(Utils.scala:2066)\n",
      "\tat org.apache.spark.api.python.BasePythonRunner$WriterThread.run(PythonRunner.scala:272)\n",
      "23/03/14 21:50:11 ERROR Executor: Exception in task 1.0 in stage 49.0 (TID 112)\n",
      "org.apache.spark.SparkException: Can only zip RDDs with same number of elements in each partition\n",
      "\tat org.apache.spark.errors.SparkCoreErrors$.canOnlyZipRDDsWithSamePartitionSizeError(SparkCoreErrors.scala:115)\n",
      "\tat org.apache.spark.rdd.RDD$$anon$3.hasNext(RDD.scala:946)\n",
      "\tat scala.collection.Iterator.foreach(Iterator.scala:943)\n",
      "\tat scala.collection.Iterator.foreach$(Iterator.scala:943)\n",
      "\tat org.apache.spark.rdd.RDD$$anon$3.foreach(RDD.scala:942)\n",
      "\tat org.apache.spark.api.python.PythonRDD$.writeIteratorToStream(PythonRDD.scala:307)\n",
      "\tat org.apache.spark.api.python.PythonRunner$$anon$2.writeIteratorToStream(PythonRunner.scala:732)\n",
      "\tat org.apache.spark.api.python.BasePythonRunner$WriterThread.$anonfun$run$1(PythonRunner.scala:438)\n",
      "\tat org.apache.spark.util.Utils$.logUncaughtExceptions(Utils.scala:2066)\n",
      "\tat org.apache.spark.api.python.BasePythonRunner$WriterThread.run(PythonRunner.scala:272)\n",
      "23/03/14 21:50:11 WARN TaskSetManager: Lost task 1.0 in stage 49.0 (TID 112) (192.168.1.66 executor driver): org.apache.spark.SparkException: Can only zip RDDs with same number of elements in each partition\n",
      "\tat org.apache.spark.errors.SparkCoreErrors$.canOnlyZipRDDsWithSamePartitionSizeError(SparkCoreErrors.scala:115)\n",
      "\tat org.apache.spark.rdd.RDD$$anon$3.hasNext(RDD.scala:946)\n",
      "\tat scala.collection.Iterator.foreach(Iterator.scala:943)\n",
      "\tat scala.collection.Iterator.foreach$(Iterator.scala:943)\n",
      "\tat org.apache.spark.rdd.RDD$$anon$3.foreach(RDD.scala:942)\n",
      "\tat org.apache.spark.api.python.PythonRDD$.writeIteratorToStream(PythonRDD.scala:307)\n",
      "\tat org.apache.spark.api.python.PythonRunner$$anon$2.writeIteratorToStream(PythonRunner.scala:732)\n",
      "\tat org.apache.spark.api.python.BasePythonRunner$WriterThread.$anonfun$run$1(PythonRunner.scala:438)\n",
      "\tat org.apache.spark.util.Utils$.logUncaughtExceptions(Utils.scala:2066)\n",
      "\tat org.apache.spark.api.python.BasePythonRunner$WriterThread.run(PythonRunner.scala:272)\n",
      "\n",
      "23/03/14 21:50:11 ERROR TaskSetManager: Task 1 in stage 49.0 failed 1 times; aborting job\n"
     ]
    },
    {
     "ename": "Py4JJavaError",
     "evalue": "An error occurred while calling z:org.apache.spark.api.python.PythonRDD.collectAndServe.\n: org.apache.spark.SparkException: Job aborted due to stage failure: Task 1 in stage 49.0 failed 1 times, most recent failure: Lost task 1.0 in stage 49.0 (TID 112) (192.168.1.66 executor driver): org.apache.spark.SparkException: Can only zip RDDs with same number of elements in each partition\n\tat org.apache.spark.errors.SparkCoreErrors$.canOnlyZipRDDsWithSamePartitionSizeError(SparkCoreErrors.scala:115)\n\tat org.apache.spark.rdd.RDD$$anon$3.hasNext(RDD.scala:946)\n\tat scala.collection.Iterator.foreach(Iterator.scala:943)\n\tat scala.collection.Iterator.foreach$(Iterator.scala:943)\n\tat org.apache.spark.rdd.RDD$$anon$3.foreach(RDD.scala:942)\n\tat org.apache.spark.api.python.PythonRDD$.writeIteratorToStream(PythonRDD.scala:307)\n\tat org.apache.spark.api.python.PythonRunner$$anon$2.writeIteratorToStream(PythonRunner.scala:732)\n\tat org.apache.spark.api.python.BasePythonRunner$WriterThread.$anonfun$run$1(PythonRunner.scala:438)\n\tat org.apache.spark.util.Utils$.logUncaughtExceptions(Utils.scala:2066)\n\tat org.apache.spark.api.python.BasePythonRunner$WriterThread.run(PythonRunner.scala:272)\n\nDriver stacktrace:\n\tat org.apache.spark.scheduler.DAGScheduler.failJobAndIndependentStages(DAGScheduler.scala:2672)\n\tat org.apache.spark.scheduler.DAGScheduler.$anonfun$abortStage$2(DAGScheduler.scala:2608)\n\tat org.apache.spark.scheduler.DAGScheduler.$anonfun$abortStage$2$adapted(DAGScheduler.scala:2607)\n\tat scala.collection.mutable.ResizableArray.foreach(ResizableArray.scala:62)\n\tat scala.collection.mutable.ResizableArray.foreach$(ResizableArray.scala:55)\n\tat scala.collection.mutable.ArrayBuffer.foreach(ArrayBuffer.scala:49)\n\tat org.apache.spark.scheduler.DAGScheduler.abortStage(DAGScheduler.scala:2607)\n\tat org.apache.spark.scheduler.DAGScheduler.$anonfun$handleTaskSetFailed$1(DAGScheduler.scala:1182)\n\tat org.apache.spark.scheduler.DAGScheduler.$anonfun$handleTaskSetFailed$1$adapted(DAGScheduler.scala:1182)\n\tat scala.Option.foreach(Option.scala:407)\n\tat org.apache.spark.scheduler.DAGScheduler.handleTaskSetFailed(DAGScheduler.scala:1182)\n\tat org.apache.spark.scheduler.DAGSchedulerEventProcessLoop.doOnReceive(DAGScheduler.scala:2860)\n\tat org.apache.spark.scheduler.DAGSchedulerEventProcessLoop.onReceive(DAGScheduler.scala:2802)\n\tat org.apache.spark.scheduler.DAGSchedulerEventProcessLoop.onReceive(DAGScheduler.scala:2791)\n\tat org.apache.spark.util.EventLoop$$anon$1.run(EventLoop.scala:49)\n\tat org.apache.spark.scheduler.DAGScheduler.runJob(DAGScheduler.scala:952)\n\tat org.apache.spark.SparkContext.runJob(SparkContext.scala:2228)\n\tat org.apache.spark.SparkContext.runJob(SparkContext.scala:2249)\n\tat org.apache.spark.SparkContext.runJob(SparkContext.scala:2268)\n\tat org.apache.spark.SparkContext.runJob(SparkContext.scala:2293)\n\tat org.apache.spark.rdd.RDD.$anonfun$collect$1(RDD.scala:1021)\n\tat org.apache.spark.rdd.RDDOperationScope$.withScope(RDDOperationScope.scala:151)\n\tat org.apache.spark.rdd.RDDOperationScope$.withScope(RDDOperationScope.scala:112)\n\tat org.apache.spark.rdd.RDD.withScope(RDD.scala:406)\n\tat org.apache.spark.rdd.RDD.collect(RDD.scala:1020)\n\tat org.apache.spark.api.python.PythonRDD$.collectAndServe(PythonRDD.scala:180)\n\tat org.apache.spark.api.python.PythonRDD.collectAndServe(PythonRDD.scala)\n\tat java.base/jdk.internal.reflect.DirectMethodHandleAccessor.invoke(DirectMethodHandleAccessor.java:104)\n\tat java.base/java.lang.reflect.Method.invoke(Method.java:578)\n\tat py4j.reflection.MethodInvoker.invoke(MethodInvoker.java:244)\n\tat py4j.reflection.ReflectionEngine.invoke(ReflectionEngine.java:357)\n\tat py4j.Gateway.invoke(Gateway.java:282)\n\tat py4j.commands.AbstractCommand.invokeMethod(AbstractCommand.java:132)\n\tat py4j.commands.CallCommand.execute(CallCommand.java:79)\n\tat py4j.ClientServerConnection.waitForCommands(ClientServerConnection.java:182)\n\tat py4j.ClientServerConnection.run(ClientServerConnection.java:106)\n\tat java.base/java.lang.Thread.run(Thread.java:1589)\nCaused by: org.apache.spark.SparkException: Can only zip RDDs with same number of elements in each partition\n\tat org.apache.spark.errors.SparkCoreErrors$.canOnlyZipRDDsWithSamePartitionSizeError(SparkCoreErrors.scala:115)\n\tat org.apache.spark.rdd.RDD$$anon$3.hasNext(RDD.scala:946)\n\tat scala.collection.Iterator.foreach(Iterator.scala:943)\n\tat scala.collection.Iterator.foreach$(Iterator.scala:943)\n\tat org.apache.spark.rdd.RDD$$anon$3.foreach(RDD.scala:942)\n\tat org.apache.spark.api.python.PythonRDD$.writeIteratorToStream(PythonRDD.scala:307)\n\tat org.apache.spark.api.python.PythonRunner$$anon$2.writeIteratorToStream(PythonRunner.scala:732)\n\tat org.apache.spark.api.python.BasePythonRunner$WriterThread.$anonfun$run$1(PythonRunner.scala:438)\n\tat org.apache.spark.util.Utils$.logUncaughtExceptions(Utils.scala:2066)\n\tat org.apache.spark.api.python.BasePythonRunner$WriterThread.run(PythonRunner.scala:272)\n",
     "output_type": "error",
     "traceback": [
      "\u001b[0;31m---------------------------------------------------------------------------\u001b[0m",
      "\u001b[0;31mPy4JJavaError\u001b[0m                             Traceback (most recent call last)",
      "\u001b[0;32m/var/folders/mz/9cypvzdn37g8034zbwdlq4g80000gn/T/ipykernel_35281/3631117436.py\u001b[0m in \u001b[0;36m<module>\u001b[0;34m\u001b[0m\n\u001b[0;32m----> 1\u001b[0;31m \u001b[0mfinal_count\u001b[0m \u001b[0;34m=\u001b[0m \u001b[0mcounts\u001b[0m\u001b[0;34m.\u001b[0m\u001b[0mcollect\u001b[0m\u001b[0;34m(\u001b[0m\u001b[0;34m)\u001b[0m\u001b[0;34m\u001b[0m\u001b[0;34m\u001b[0m\u001b[0m\n\u001b[0m\u001b[1;32m      2\u001b[0m \u001b[0mx1\u001b[0m\u001b[0;34m=\u001b[0m \u001b[0;34m[\u001b[0m\u001b[0;34m]\u001b[0m\u001b[0;34m\u001b[0m\u001b[0;34m\u001b[0m\u001b[0m\n\u001b[1;32m      3\u001b[0m \u001b[0my\u001b[0m \u001b[0;34m=\u001b[0m\u001b[0;34m[\u001b[0m\u001b[0;34m]\u001b[0m\u001b[0;34m\u001b[0m\u001b[0;34m\u001b[0m\u001b[0m\n\u001b[1;32m      4\u001b[0m \u001b[0;32mfor\u001b[0m \u001b[0mx\u001b[0m \u001b[0;32min\u001b[0m \u001b[0mfinal_count\u001b[0m\u001b[0;34m:\u001b[0m\u001b[0;34m\u001b[0m\u001b[0;34m\u001b[0m\u001b[0m\n\u001b[1;32m      5\u001b[0m     \u001b[0mx1\u001b[0m\u001b[0;34m.\u001b[0m\u001b[0mappend\u001b[0m\u001b[0;34m(\u001b[0m\u001b[0mx\u001b[0m\u001b[0;34m[\u001b[0m\u001b[0;36m0\u001b[0m\u001b[0;34m]\u001b[0m\u001b[0;34m)\u001b[0m\u001b[0;34m\u001b[0m\u001b[0;34m\u001b[0m\u001b[0m\n",
      "\u001b[0;32m~/opt/anaconda3/lib/python3.9/site-packages/pyspark/rdd.py\u001b[0m in \u001b[0;36mcollect\u001b[0;34m(self)\u001b[0m\n\u001b[1;32m   1195\u001b[0m         \u001b[0;32mwith\u001b[0m \u001b[0mSCCallSiteSync\u001b[0m\u001b[0;34m(\u001b[0m\u001b[0mself\u001b[0m\u001b[0;34m.\u001b[0m\u001b[0mcontext\u001b[0m\u001b[0;34m)\u001b[0m\u001b[0;34m:\u001b[0m\u001b[0;34m\u001b[0m\u001b[0;34m\u001b[0m\u001b[0m\n\u001b[1;32m   1196\u001b[0m             \u001b[0;32massert\u001b[0m \u001b[0mself\u001b[0m\u001b[0;34m.\u001b[0m\u001b[0mctx\u001b[0m\u001b[0;34m.\u001b[0m\u001b[0m_jvm\u001b[0m \u001b[0;32mis\u001b[0m \u001b[0;32mnot\u001b[0m \u001b[0;32mNone\u001b[0m\u001b[0;34m\u001b[0m\u001b[0;34m\u001b[0m\u001b[0m\n\u001b[0;32m-> 1197\u001b[0;31m             \u001b[0msock_info\u001b[0m \u001b[0;34m=\u001b[0m \u001b[0mself\u001b[0m\u001b[0;34m.\u001b[0m\u001b[0mctx\u001b[0m\u001b[0;34m.\u001b[0m\u001b[0m_jvm\u001b[0m\u001b[0;34m.\u001b[0m\u001b[0mPythonRDD\u001b[0m\u001b[0;34m.\u001b[0m\u001b[0mcollectAndServe\u001b[0m\u001b[0;34m(\u001b[0m\u001b[0mself\u001b[0m\u001b[0;34m.\u001b[0m\u001b[0m_jrdd\u001b[0m\u001b[0;34m.\u001b[0m\u001b[0mrdd\u001b[0m\u001b[0;34m(\u001b[0m\u001b[0;34m)\u001b[0m\u001b[0;34m)\u001b[0m\u001b[0;34m\u001b[0m\u001b[0;34m\u001b[0m\u001b[0m\n\u001b[0m\u001b[1;32m   1198\u001b[0m         \u001b[0;32mreturn\u001b[0m \u001b[0mlist\u001b[0m\u001b[0;34m(\u001b[0m\u001b[0m_load_from_socket\u001b[0m\u001b[0;34m(\u001b[0m\u001b[0msock_info\u001b[0m\u001b[0;34m,\u001b[0m \u001b[0mself\u001b[0m\u001b[0;34m.\u001b[0m\u001b[0m_jrdd_deserializer\u001b[0m\u001b[0;34m)\u001b[0m\u001b[0;34m)\u001b[0m\u001b[0;34m\u001b[0m\u001b[0;34m\u001b[0m\u001b[0m\n\u001b[1;32m   1199\u001b[0m \u001b[0;34m\u001b[0m\u001b[0m\n",
      "\u001b[0;32m~/opt/anaconda3/lib/python3.9/site-packages/py4j/java_gateway.py\u001b[0m in \u001b[0;36m__call__\u001b[0;34m(self, *args)\u001b[0m\n\u001b[1;32m   1319\u001b[0m \u001b[0;34m\u001b[0m\u001b[0m\n\u001b[1;32m   1320\u001b[0m         \u001b[0manswer\u001b[0m \u001b[0;34m=\u001b[0m \u001b[0mself\u001b[0m\u001b[0;34m.\u001b[0m\u001b[0mgateway_client\u001b[0m\u001b[0;34m.\u001b[0m\u001b[0msend_command\u001b[0m\u001b[0;34m(\u001b[0m\u001b[0mcommand\u001b[0m\u001b[0;34m)\u001b[0m\u001b[0;34m\u001b[0m\u001b[0;34m\u001b[0m\u001b[0m\n\u001b[0;32m-> 1321\u001b[0;31m         return_value = get_return_value(\n\u001b[0m\u001b[1;32m   1322\u001b[0m             answer, self.gateway_client, self.target_id, self.name)\n\u001b[1;32m   1323\u001b[0m \u001b[0;34m\u001b[0m\u001b[0m\n",
      "\u001b[0;32m~/opt/anaconda3/lib/python3.9/site-packages/pyspark/sql/utils.py\u001b[0m in \u001b[0;36mdeco\u001b[0;34m(*a, **kw)\u001b[0m\n\u001b[1;32m    188\u001b[0m     \u001b[0;32mdef\u001b[0m \u001b[0mdeco\u001b[0m\u001b[0;34m(\u001b[0m\u001b[0;34m*\u001b[0m\u001b[0ma\u001b[0m\u001b[0;34m:\u001b[0m \u001b[0mAny\u001b[0m\u001b[0;34m,\u001b[0m \u001b[0;34m**\u001b[0m\u001b[0mkw\u001b[0m\u001b[0;34m:\u001b[0m \u001b[0mAny\u001b[0m\u001b[0;34m)\u001b[0m \u001b[0;34m->\u001b[0m \u001b[0mAny\u001b[0m\u001b[0;34m:\u001b[0m\u001b[0;34m\u001b[0m\u001b[0;34m\u001b[0m\u001b[0m\n\u001b[1;32m    189\u001b[0m         \u001b[0;32mtry\u001b[0m\u001b[0;34m:\u001b[0m\u001b[0;34m\u001b[0m\u001b[0;34m\u001b[0m\u001b[0m\n\u001b[0;32m--> 190\u001b[0;31m             \u001b[0;32mreturn\u001b[0m \u001b[0mf\u001b[0m\u001b[0;34m(\u001b[0m\u001b[0;34m*\u001b[0m\u001b[0ma\u001b[0m\u001b[0;34m,\u001b[0m \u001b[0;34m**\u001b[0m\u001b[0mkw\u001b[0m\u001b[0;34m)\u001b[0m\u001b[0;34m\u001b[0m\u001b[0;34m\u001b[0m\u001b[0m\n\u001b[0m\u001b[1;32m    191\u001b[0m         \u001b[0;32mexcept\u001b[0m \u001b[0mPy4JJavaError\u001b[0m \u001b[0;32mas\u001b[0m \u001b[0me\u001b[0m\u001b[0;34m:\u001b[0m\u001b[0;34m\u001b[0m\u001b[0;34m\u001b[0m\u001b[0m\n\u001b[1;32m    192\u001b[0m             \u001b[0mconverted\u001b[0m \u001b[0;34m=\u001b[0m \u001b[0mconvert_exception\u001b[0m\u001b[0;34m(\u001b[0m\u001b[0me\u001b[0m\u001b[0;34m.\u001b[0m\u001b[0mjava_exception\u001b[0m\u001b[0;34m)\u001b[0m\u001b[0;34m\u001b[0m\u001b[0;34m\u001b[0m\u001b[0m\n",
      "\u001b[0;32m~/opt/anaconda3/lib/python3.9/site-packages/py4j/protocol.py\u001b[0m in \u001b[0;36mget_return_value\u001b[0;34m(answer, gateway_client, target_id, name)\u001b[0m\n\u001b[1;32m    324\u001b[0m             \u001b[0mvalue\u001b[0m \u001b[0;34m=\u001b[0m \u001b[0mOUTPUT_CONVERTER\u001b[0m\u001b[0;34m[\u001b[0m\u001b[0mtype\u001b[0m\u001b[0;34m]\u001b[0m\u001b[0;34m(\u001b[0m\u001b[0manswer\u001b[0m\u001b[0;34m[\u001b[0m\u001b[0;36m2\u001b[0m\u001b[0;34m:\u001b[0m\u001b[0;34m]\u001b[0m\u001b[0;34m,\u001b[0m \u001b[0mgateway_client\u001b[0m\u001b[0;34m)\u001b[0m\u001b[0;34m\u001b[0m\u001b[0;34m\u001b[0m\u001b[0m\n\u001b[1;32m    325\u001b[0m             \u001b[0;32mif\u001b[0m \u001b[0manswer\u001b[0m\u001b[0;34m[\u001b[0m\u001b[0;36m1\u001b[0m\u001b[0;34m]\u001b[0m \u001b[0;34m==\u001b[0m \u001b[0mREFERENCE_TYPE\u001b[0m\u001b[0;34m:\u001b[0m\u001b[0;34m\u001b[0m\u001b[0;34m\u001b[0m\u001b[0m\n\u001b[0;32m--> 326\u001b[0;31m                 raise Py4JJavaError(\n\u001b[0m\u001b[1;32m    327\u001b[0m                     \u001b[0;34m\"An error occurred while calling {0}{1}{2}.\\n\"\u001b[0m\u001b[0;34m.\u001b[0m\u001b[0;34m\u001b[0m\u001b[0;34m\u001b[0m\u001b[0m\n\u001b[1;32m    328\u001b[0m                     format(target_id, \".\", name), value)\n",
      "\u001b[0;31mPy4JJavaError\u001b[0m: An error occurred while calling z:org.apache.spark.api.python.PythonRDD.collectAndServe.\n: org.apache.spark.SparkException: Job aborted due to stage failure: Task 1 in stage 49.0 failed 1 times, most recent failure: Lost task 1.0 in stage 49.0 (TID 112) (192.168.1.66 executor driver): org.apache.spark.SparkException: Can only zip RDDs with same number of elements in each partition\n\tat org.apache.spark.errors.SparkCoreErrors$.canOnlyZipRDDsWithSamePartitionSizeError(SparkCoreErrors.scala:115)\n\tat org.apache.spark.rdd.RDD$$anon$3.hasNext(RDD.scala:946)\n\tat scala.collection.Iterator.foreach(Iterator.scala:943)\n\tat scala.collection.Iterator.foreach$(Iterator.scala:943)\n\tat org.apache.spark.rdd.RDD$$anon$3.foreach(RDD.scala:942)\n\tat org.apache.spark.api.python.PythonRDD$.writeIteratorToStream(PythonRDD.scala:307)\n\tat org.apache.spark.api.python.PythonRunner$$anon$2.writeIteratorToStream(PythonRunner.scala:732)\n\tat org.apache.spark.api.python.BasePythonRunner$WriterThread.$anonfun$run$1(PythonRunner.scala:438)\n\tat org.apache.spark.util.Utils$.logUncaughtExceptions(Utils.scala:2066)\n\tat org.apache.spark.api.python.BasePythonRunner$WriterThread.run(PythonRunner.scala:272)\n\nDriver stacktrace:\n\tat org.apache.spark.scheduler.DAGScheduler.failJobAndIndependentStages(DAGScheduler.scala:2672)\n\tat org.apache.spark.scheduler.DAGScheduler.$anonfun$abortStage$2(DAGScheduler.scala:2608)\n\tat org.apache.spark.scheduler.DAGScheduler.$anonfun$abortStage$2$adapted(DAGScheduler.scala:2607)\n\tat scala.collection.mutable.ResizableArray.foreach(ResizableArray.scala:62)\n\tat scala.collection.mutable.ResizableArray.foreach$(ResizableArray.scala:55)\n\tat scala.collection.mutable.ArrayBuffer.foreach(ArrayBuffer.scala:49)\n\tat org.apache.spark.scheduler.DAGScheduler.abortStage(DAGScheduler.scala:2607)\n\tat org.apache.spark.scheduler.DAGScheduler.$anonfun$handleTaskSetFailed$1(DAGScheduler.scala:1182)\n\tat org.apache.spark.scheduler.DAGScheduler.$anonfun$handleTaskSetFailed$1$adapted(DAGScheduler.scala:1182)\n\tat scala.Option.foreach(Option.scala:407)\n\tat org.apache.spark.scheduler.DAGScheduler.handleTaskSetFailed(DAGScheduler.scala:1182)\n\tat org.apache.spark.scheduler.DAGSchedulerEventProcessLoop.doOnReceive(DAGScheduler.scala:2860)\n\tat org.apache.spark.scheduler.DAGSchedulerEventProcessLoop.onReceive(DAGScheduler.scala:2802)\n\tat org.apache.spark.scheduler.DAGSchedulerEventProcessLoop.onReceive(DAGScheduler.scala:2791)\n\tat org.apache.spark.util.EventLoop$$anon$1.run(EventLoop.scala:49)\n\tat org.apache.spark.scheduler.DAGScheduler.runJob(DAGScheduler.scala:952)\n\tat org.apache.spark.SparkContext.runJob(SparkContext.scala:2228)\n\tat org.apache.spark.SparkContext.runJob(SparkContext.scala:2249)\n\tat org.apache.spark.SparkContext.runJob(SparkContext.scala:2268)\n\tat org.apache.spark.SparkContext.runJob(SparkContext.scala:2293)\n\tat org.apache.spark.rdd.RDD.$anonfun$collect$1(RDD.scala:1021)\n\tat org.apache.spark.rdd.RDDOperationScope$.withScope(RDDOperationScope.scala:151)\n\tat org.apache.spark.rdd.RDDOperationScope$.withScope(RDDOperationScope.scala:112)\n\tat org.apache.spark.rdd.RDD.withScope(RDD.scala:406)\n\tat org.apache.spark.rdd.RDD.collect(RDD.scala:1020)\n\tat org.apache.spark.api.python.PythonRDD$.collectAndServe(PythonRDD.scala:180)\n\tat org.apache.spark.api.python.PythonRDD.collectAndServe(PythonRDD.scala)\n\tat java.base/jdk.internal.reflect.DirectMethodHandleAccessor.invoke(DirectMethodHandleAccessor.java:104)\n\tat java.base/java.lang.reflect.Method.invoke(Method.java:578)\n\tat py4j.reflection.MethodInvoker.invoke(MethodInvoker.java:244)\n\tat py4j.reflection.ReflectionEngine.invoke(ReflectionEngine.java:357)\n\tat py4j.Gateway.invoke(Gateway.java:282)\n\tat py4j.commands.AbstractCommand.invokeMethod(AbstractCommand.java:132)\n\tat py4j.commands.CallCommand.execute(CallCommand.java:79)\n\tat py4j.ClientServerConnection.waitForCommands(ClientServerConnection.java:182)\n\tat py4j.ClientServerConnection.run(ClientServerConnection.java:106)\n\tat java.base/java.lang.Thread.run(Thread.java:1589)\nCaused by: org.apache.spark.SparkException: Can only zip RDDs with same number of elements in each partition\n\tat org.apache.spark.errors.SparkCoreErrors$.canOnlyZipRDDsWithSamePartitionSizeError(SparkCoreErrors.scala:115)\n\tat org.apache.spark.rdd.RDD$$anon$3.hasNext(RDD.scala:946)\n\tat scala.collection.Iterator.foreach(Iterator.scala:943)\n\tat scala.collection.Iterator.foreach$(Iterator.scala:943)\n\tat org.apache.spark.rdd.RDD$$anon$3.foreach(RDD.scala:942)\n\tat org.apache.spark.api.python.PythonRDD$.writeIteratorToStream(PythonRDD.scala:307)\n\tat org.apache.spark.api.python.PythonRunner$$anon$2.writeIteratorToStream(PythonRunner.scala:732)\n\tat org.apache.spark.api.python.BasePythonRunner$WriterThread.$anonfun$run$1(PythonRunner.scala:438)\n\tat org.apache.spark.util.Utils$.logUncaughtExceptions(Utils.scala:2066)\n\tat org.apache.spark.api.python.BasePythonRunner$WriterThread.run(PythonRunner.scala:272)\n"
     ]
    },
    {
     "name": "stderr",
     "output_type": "stream",
     "text": [
      "\r",
      "[Stage 49:>                                                         (0 + 1) / 2]\r"
     ]
    },
    {
     "name": "stdout",
     "output_type": "stream",
     "text": [
      "23/03/14 21:50:12 WARN TaskSetManager: Lost task 0.0 in stage 49.0 (TID 111) (192.168.1.66 executor driver): TaskKilled (Stage cancelled)\n"
     ]
    }
   ],
   "source": [
    "final_count = counts.collect()\n",
    "x1= []\n",
    "y =[]\n",
    "for x in final_count:\n",
    "    x1.append(x[0])\n",
    "    y.append(x[1])\n"
   ]
  },
  {
   "cell_type": "code",
   "execution_count": 43,
   "id": "ee157029",
   "metadata": {},
   "outputs": [
    {
     "data": {
      "image/png": "[encoded data removed]",
      "text/plain": [
       "<Figure size 640x480 with 1 Axes>"
      ]
     },
     "metadata": {},
     "output_type": "display_data"
    }
   ],
   "source": [
    "plt.tight_layout()\n",
    "plt.pie(y,labels = x1, colors = ['lightblue','green','red'],autopct='%1.1f%%')\n",
    "plt.savefig(\"description.png\")"
   ]
  }
 ],
 "metadata": {
  "kernelspec": {
   "display_name": "Python 3 (ipykernel)",
   "language": "python",
   "name": "python3"
  },
  "language_info": {
   "codemirror_mode": {
    "name": "ipython",
    "version": 3
   },
   "file_extension": ".py",
   "mimetype": "text/x-python",
   "name": "python",
   "nbconvert_exporter": "python",
   "pygments_lexer": "ipython3",
   "version": "3.9.12"
  }
 },
 "nbformat": 4,
 "nbformat_minor": 5
}
